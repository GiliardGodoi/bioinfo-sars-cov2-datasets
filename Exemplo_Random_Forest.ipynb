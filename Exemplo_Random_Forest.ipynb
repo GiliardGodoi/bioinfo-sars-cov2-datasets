{
  "nbformat": 4,
  "nbformat_minor": 0,
  "metadata": {
    "colab": {
      "name": "Exemplo Random Forest.ipynb",
      "provenance": [],
      "collapsed_sections": [],
      "mount_file_id": "1OGnatN_0jmajrfn1Wdjyf16TxHOWAYTh",
      "authorship_tag": "ABX9TyMPyw0oaOyNSVR4okfUIYQu",
      "include_colab_link": true
    },
    "kernelspec": {
      "name": "python3",
      "display_name": "Python 3"
    }
  },
  "cells": [
    {
      "cell_type": "markdown",
      "metadata": {
        "id": "view-in-github",
        "colab_type": "text"
      },
      "source": [
        "<a href=\"https://colab.research.google.com/github/GiliardGodoi/bioinfo-sars-cov2-datasets/blob/main/Exemplo_Random_Forest.ipynb\" target=\"_parent\"><img src=\"https://colab.research.google.com/assets/colab-badge.svg\" alt=\"Open In Colab\"/></a>"
      ]
    },
    {
      "cell_type": "code",
      "metadata": {
        "id": "jQrHj04tXkSj"
      },
      "source": [
        "from sklearn.ensemble import RandomForestClassifier\n",
        "\n",
        "from sklearn.pipeline import Pipeline\n",
        "\n",
        "from sklearn.preprocessing import MinMaxScaler\n",
        "from sklearn.preprocessing import Normalizer\n",
        "from sklearn.preprocessing import StandardScaler\n",
        "\n",
        "from sklearn.model_selection import cross_validate\n",
        "from sklearn.model_selection import KFold\n",
        "from sklearn.model_selection import train_test_split\n",
        "\n",
        "from sklearn.metrics import accuracy_score\n",
        "from sklearn.metrics import balanced_accuracy_score\n",
        "from sklearn.metrics import cohen_kappa_score\n",
        "from sklearn.metrics import confusion_matrix\n",
        "from sklearn.metrics import f1_score\n",
        "from sklearn.metrics import hamming_loss\n",
        "from sklearn.metrics import jaccard_score\n",
        "from sklearn.metrics import make_scorer\n",
        "from sklearn.metrics import matthews_corrcoef\n",
        "from sklearn.metrics import precision_score\n",
        "from sklearn.metrics import roc_auc_score\n",
        "from sklearn.metrics import recall_score\n",
        "from imblearn.metrics import geometric_mean_score"
      ],
      "execution_count": null,
      "outputs": []
    },
    {
      "cell_type": "code",
      "metadata": {
        "id": "gV1LiRzQYyeF"
      },
      "source": [
        "import os\n",
        "from os import path\n",
        "\n",
        "import pandas as pd\n",
        "import numpy as np"
      ],
      "execution_count": null,
      "outputs": []
    },
    {
      "cell_type": "code",
      "metadata": {
        "id": "llHg3ESIXnKv"
      },
      "source": [
        "base_folder = \"/content/drive/Shared drives/PPGI_GILIARD/FeatureExtraction_SARS-CoV-2\"\n",
        "features_folder = \"/content/drive/Shared drives/PPGI_GILIARD/FeatureExtraction_SARS-CoV-2/data/processed\""
      ],
      "execution_count": null,
      "outputs": []
    },
    {
      "cell_type": "code",
      "metadata": {
        "id": "rfn3XWcNYw4y"
      },
      "source": [
        "assert path.exists(features_folder)"
      ],
      "execution_count": null,
      "outputs": []
    },
    {
      "cell_type": "code",
      "metadata": {
        "id": "BazsxN4MZDGF",
        "outputId": "df597bc0-165d-453f-b5fc-b69dae293c9e",
        "colab": {
          "base_uri": "https://localhost:8080/",
          "height": 34
        }
      },
      "source": [
        "folders = os.listdir(features_folder)\n",
        "\n",
        "folders"
      ],
      "execution_count": null,
      "outputs": [
        {
          "output_type": "execute_result",
          "data": {
            "text/plain": [
              "['1-covid', '2-other-viruses']"
            ]
          },
          "metadata": {
            "tags": []
          },
          "execution_count": 62
        }
      ]
    },
    {
      "cell_type": "code",
      "metadata": {
        "id": "rEDAcm96ZRfv",
        "outputId": "90412438-a0ae-4fad-fdb9-d5f2ed29cc9e",
        "colab": {
          "base_uri": "https://localhost:8080/",
          "height": 119
        }
      },
      "source": [
        "case_study = path.join(features_folder, folders[1])\n",
        "\n",
        "print(case_study,'\\n')\n",
        "\n",
        "files = os.listdir(case_study)\n",
        "\n",
        "files"
      ],
      "execution_count": null,
      "outputs": [
        {
          "output_type": "stream",
          "text": [
            "/content/drive/Shared drives/PPGI_GILIARD/FeatureExtraction_SARS-CoV-2/data/processed/2-other-viruses \n",
            "\n"
          ],
          "name": "stdout"
        },
        {
          "output_type": "execute_result",
          "data": {
            "text/plain": [
              "['chaos-game-theory_r4.csv',\n",
              " 'complex-network_k3t10.csv',\n",
              " 'fourier-class_r5.csv',\n",
              " 'shannon-entropy_k12.csv']"
            ]
          },
          "metadata": {
            "tags": []
          },
          "execution_count": 73
        }
      ]
    },
    {
      "cell_type": "code",
      "metadata": {
        "id": "xVme8bbJZiPB",
        "outputId": "d7fdcfc3-6298-4446-f277-8f0fa0dd61eb",
        "colab": {
          "base_uri": "https://localhost:8080/",
          "height": 35
        }
      },
      "source": [
        "file = files[2]\n",
        "\n",
        "file"
      ],
      "execution_count": null,
      "outputs": [
        {
          "output_type": "execute_result",
          "data": {
            "application/vnd.google.colaboratory.intrinsic+json": {
              "type": "string"
            },
            "text/plain": [
              "'fourier-class_r5.csv'"
            ]
          },
          "metadata": {
            "tags": []
          },
          "execution_count": 64
        }
      ]
    },
    {
      "cell_type": "code",
      "metadata": {
        "id": "xsbYj1vnZnOO",
        "outputId": "92d7c82f-970c-4cf8-fcd4-c012483ce42e",
        "colab": {
          "base_uri": "https://localhost:8080/",
          "height": 224
        }
      },
      "source": [
        "frame = pd.read_csv(path.join(case_study, file))\n",
        "\n",
        "frame.head()"
      ],
      "execution_count": null,
      "outputs": [
        {
          "output_type": "execute_result",
          "data": {
            "text/html": [
              "<div>\n",
              "<style scoped>\n",
              "    .dataframe tbody tr th:only-of-type {\n",
              "        vertical-align: middle;\n",
              "    }\n",
              "\n",
              "    .dataframe tbody tr th {\n",
              "        vertical-align: top;\n",
              "    }\n",
              "\n",
              "    .dataframe thead th {\n",
              "        text-align: right;\n",
              "    }\n",
              "</style>\n",
              "<table border=\"1\" class=\"dataframe\">\n",
              "  <thead>\n",
              "    <tr style=\"text-align: right;\">\n",
              "      <th></th>\n",
              "      <th>nameseq</th>\n",
              "      <th>average</th>\n",
              "      <th>median</th>\n",
              "      <th>maximum</th>\n",
              "      <th>minimum</th>\n",
              "      <th>peak</th>\n",
              "      <th>none_levated_peak</th>\n",
              "      <th>sample_standard_deviation</th>\n",
              "      <th>population_standard_deviation</th>\n",
              "      <th>percentile15</th>\n",
              "      <th>percentile25</th>\n",
              "      <th>percentile50</th>\n",
              "      <th>percentile75</th>\n",
              "      <th>amplitude</th>\n",
              "      <th>variance</th>\n",
              "      <th>interquartile_range</th>\n",
              "      <th>semi_interquartile_range</th>\n",
              "      <th>coefficient_of_variation</th>\n",
              "      <th>skewness</th>\n",
              "      <th>kurtosis</th>\n",
              "      <th>label</th>\n",
              "    </tr>\n",
              "  </thead>\n",
              "  <tbody>\n",
              "    <tr>\n",
              "      <th>0</th>\n",
              "      <td>NC_044932.1</td>\n",
              "      <td>110.200770</td>\n",
              "      <td>2.320921</td>\n",
              "      <td>803140.205525</td>\n",
              "      <td>0.000454</td>\n",
              "      <td>22.761486</td>\n",
              "      <td>1429.274136</td>\n",
              "      <td>9257.792270</td>\n",
              "      <td>9258.407467</td>\n",
              "      <td>0.557195</td>\n",
              "      <td>0.942365</td>\n",
              "      <td>2.320921</td>\n",
              "      <td>4.824015</td>\n",
              "      <td>803140.205071</td>\n",
              "      <td>8.571811e+07</td>\n",
              "      <td>3.881650</td>\n",
              "      <td>1.940825</td>\n",
              "      <td>84.008417</td>\n",
              "      <td>0.034959</td>\n",
              "      <td>0.260430</td>\n",
              "      <td>0</td>\n",
              "    </tr>\n",
              "    <tr>\n",
              "      <th>1</th>\n",
              "      <td>NC_044854.1</td>\n",
              "      <td>111.226066</td>\n",
              "      <td>2.547253</td>\n",
              "      <td>826540.448963</td>\n",
              "      <td>0.000122</td>\n",
              "      <td>23.055147</td>\n",
              "      <td>1402.058721</td>\n",
              "      <td>9422.932568</td>\n",
              "      <td>9423.545063</td>\n",
              "      <td>0.591690</td>\n",
              "      <td>1.051478</td>\n",
              "      <td>2.547253</td>\n",
              "      <td>5.269500</td>\n",
              "      <td>826540.448842</td>\n",
              "      <td>8.880320e+07</td>\n",
              "      <td>4.218022</td>\n",
              "      <td>2.109011</td>\n",
              "      <td>84.718743</td>\n",
              "      <td>0.034600</td>\n",
              "      <td>0.256677</td>\n",
              "      <td>0</td>\n",
              "    </tr>\n",
              "    <tr>\n",
              "      <th>2</th>\n",
              "      <td>NC_044855.1</td>\n",
              "      <td>106.502827</td>\n",
              "      <td>2.507139</td>\n",
              "      <td>762460.950738</td>\n",
              "      <td>0.001254</td>\n",
              "      <td>23.220041</td>\n",
              "      <td>1359.998896</td>\n",
              "      <td>8851.432881</td>\n",
              "      <td>8852.029479</td>\n",
              "      <td>0.593087</td>\n",
              "      <td>1.040188</td>\n",
              "      <td>2.507139</td>\n",
              "      <td>5.090021</td>\n",
              "      <td>762460.949484</td>\n",
              "      <td>7.835843e+07</td>\n",
              "      <td>4.049833</td>\n",
              "      <td>2.024917</td>\n",
              "      <td>83.109840</td>\n",
              "      <td>0.035247</td>\n",
              "      <td>0.246709</td>\n",
              "      <td>0</td>\n",
              "    </tr>\n",
              "    <tr>\n",
              "      <th>3</th>\n",
              "      <td>NC_044856.1</td>\n",
              "      <td>112.381645</td>\n",
              "      <td>2.548185</td>\n",
              "      <td>840403.060225</td>\n",
              "      <td>0.000581</td>\n",
              "      <td>22.939689</td>\n",
              "      <td>1416.142833</td>\n",
              "      <td>9555.547760</td>\n",
              "      <td>9556.165582</td>\n",
              "      <td>0.608832</td>\n",
              "      <td>1.048437</td>\n",
              "      <td>2.548185</td>\n",
              "      <td>5.077493</td>\n",
              "      <td>840403.059644</td>\n",
              "      <td>9.132030e+07</td>\n",
              "      <td>4.029056</td>\n",
              "      <td>2.014528</td>\n",
              "      <td>85.027655</td>\n",
              "      <td>0.034483</td>\n",
              "      <td>0.252850</td>\n",
              "      <td>0</td>\n",
              "    </tr>\n",
              "    <tr>\n",
              "      <th>4</th>\n",
              "      <td>NC_044045.1</td>\n",
              "      <td>109.509963</td>\n",
              "      <td>2.518363</td>\n",
              "      <td>799303.945444</td>\n",
              "      <td>0.001325</td>\n",
              "      <td>22.984210</td>\n",
              "      <td>1392.084291</td>\n",
              "      <td>9197.695427</td>\n",
              "      <td>9198.304526</td>\n",
              "      <td>0.641131</td>\n",
              "      <td>1.067224</td>\n",
              "      <td>2.518363</td>\n",
              "      <td>4.981505</td>\n",
              "      <td>799303.944119</td>\n",
              "      <td>8.460881e+07</td>\n",
              "      <td>3.914280</td>\n",
              "      <td>1.957140</td>\n",
              "      <td>83.989577</td>\n",
              "      <td>0.034897</td>\n",
              "      <td>0.253599</td>\n",
              "      <td>0</td>\n",
              "    </tr>\n",
              "  </tbody>\n",
              "</table>\n",
              "</div>"
            ],
            "text/plain": [
              "       nameseq     average    median  ...  skewness  kurtosis  label\n",
              "0  NC_044932.1  110.200770  2.320921  ...  0.034959  0.260430      0\n",
              "1  NC_044854.1  111.226066  2.547253  ...  0.034600  0.256677      0\n",
              "2  NC_044855.1  106.502827  2.507139  ...  0.035247  0.246709      0\n",
              "3  NC_044856.1  112.381645  2.548185  ...  0.034483  0.252850      0\n",
              "4  NC_044045.1  109.509963  2.518363  ...  0.034897  0.253599      0\n",
              "\n",
              "[5 rows x 21 columns]"
            ]
          },
          "metadata": {
            "tags": []
          },
          "execution_count": 65
        }
      ]
    },
    {
      "cell_type": "code",
      "metadata": {
        "id": "-P6rW-zkZ6dF",
        "outputId": "4bf04be0-36b6-43ed-915e-f1b35002abae",
        "colab": {
          "base_uri": "https://localhost:8080/",
          "height": 51
        }
      },
      "source": [
        "rows, columns = frame.shape\n",
        "\n",
        "features = frame.iloc[:,1:(columns-1)]\n",
        "labels   = frame.iloc[:, -1]\n",
        "\n",
        "train, test, train_labels, test_labels = train_test_split(features,\n",
        "                                                          labels,\n",
        "                                                          test_size=0.3,\n",
        "                                                          random_state=42,\n",
        "                                                          stratify=labels)\n",
        "\n",
        "print('train shape ::', train.shape)\n",
        "print('test shape ::', test.shape)"
      ],
      "execution_count": null,
      "outputs": [
        {
          "output_type": "stream",
          "text": [
            "train shape :: (14723, 19)\n",
            "test shape :: (6311, 19)\n"
          ],
          "name": "stdout"
        }
      ]
    },
    {
      "cell_type": "code",
      "metadata": {
        "id": "UiAFWmOjZ6l1"
      },
      "source": [
        ""
      ],
      "execution_count": null,
      "outputs": []
    },
    {
      "cell_type": "code",
      "metadata": {
        "id": "ayhNRLhTYHB0",
        "outputId": "9dea7943-dd5d-4fc1-84ef-b4c62cad046e",
        "colab": {
          "base_uri": "https://localhost:8080/",
          "height": 153
        }
      },
      "source": [
        "model = RandomForestClassifier(random_state=63, n_estimators=100)\n",
        "\n",
        "scaler = MinMaxScaler(feature_range=(0, 1))\n",
        "\n",
        "X = scaler.fit_transform(train)\n",
        "\n",
        "model.fit(X, train_labels)"
      ],
      "execution_count": null,
      "outputs": [
        {
          "output_type": "execute_result",
          "data": {
            "text/plain": [
              "RandomForestClassifier(bootstrap=True, ccp_alpha=0.0, class_weight=None,\n",
              "                       criterion='gini', max_depth=None, max_features='auto',\n",
              "                       max_leaf_nodes=None, max_samples=None,\n",
              "                       min_impurity_decrease=0.0, min_impurity_split=None,\n",
              "                       min_samples_leaf=1, min_samples_split=2,\n",
              "                       min_weight_fraction_leaf=0.0, n_estimators=100,\n",
              "                       n_jobs=None, oob_score=False, random_state=63, verbose=0,\n",
              "                       warm_start=False)"
            ]
          },
          "metadata": {
            "tags": []
          },
          "execution_count": 67
        }
      ]
    },
    {
      "cell_type": "code",
      "metadata": {
        "id": "hAtLlhFibq_I"
      },
      "source": [
        "X_test = scaler.fit_transform(test)\n",
        "\n",
        "predicted = model.predict(X_test)"
      ],
      "execution_count": null,
      "outputs": []
    },
    {
      "cell_type": "code",
      "metadata": {
        "id": "lRWbtmzVbyrG"
      },
      "source": [
        "# help(accuracy_score)"
      ],
      "execution_count": null,
      "outputs": []
    },
    {
      "cell_type": "code",
      "metadata": {
        "id": "RAGWQYXicHEh",
        "outputId": "dc4d327a-80e6-4e65-af2c-dd1fa190c4b6",
        "colab": {
          "base_uri": "https://localhost:8080/",
          "height": 34
        }
      },
      "source": [
        "accuracy_score(test_labels, predicted)"
      ],
      "execution_count": null,
      "outputs": [
        {
          "output_type": "execute_result",
          "data": {
            "text/plain": [
              "1.0"
            ]
          },
          "metadata": {
            "tags": []
          },
          "execution_count": 70
        }
      ]
    },
    {
      "cell_type": "code",
      "metadata": {
        "id": "wnojEoFucXyT"
      },
      "source": [
        "# help(confusion_matrix)"
      ],
      "execution_count": null,
      "outputs": []
    },
    {
      "cell_type": "code",
      "metadata": {
        "id": "2ycL5r5ncgjS",
        "outputId": "3efd0472-1cec-4239-f4b4-083ea96e383d",
        "colab": {
          "base_uri": "https://localhost:8080/",
          "height": 51
        }
      },
      "source": [
        "confusion_matrix(test_labels, predicted, labels=[0, 1])"
      ],
      "execution_count": null,
      "outputs": [
        {
          "output_type": "execute_result",
          "data": {
            "text/plain": [
              "array([[5917,    0],\n",
              "       [   0,  394]])"
            ]
          },
          "metadata": {
            "tags": []
          },
          "execution_count": 72
        }
      ]
    }
  ]
}