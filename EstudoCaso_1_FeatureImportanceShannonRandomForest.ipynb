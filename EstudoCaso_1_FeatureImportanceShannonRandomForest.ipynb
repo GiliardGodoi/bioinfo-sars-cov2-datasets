{
  "nbformat": 4,
  "nbformat_minor": 0,
  "metadata": {
    "colab": {
      "name": "EstudoCaso_1_FeatureImportanceShannonRandomForest.ipynb",
      "provenance": [],
      "collapsed_sections": [],
      "mount_file_id": "1r1XwD6vUXnL5mZyq7gJ8wxmC66koOUpx",
      "authorship_tag": "ABX9TyO9q2R9x4qFgRw5VNBQ9eHj",
      "include_colab_link": true
    },
    "kernelspec": {
      "name": "python3",
      "display_name": "Python 3"
    }
  },
  "cells": [
    {
      "cell_type": "markdown",
      "metadata": {
        "id": "view-in-github",
        "colab_type": "text"
      },
      "source": [
        "<a href=\"https://colab.research.google.com/github/GiliardGodoi/bioinfo-sars-cov2-datasets/blob/main/EstudoCaso_1_FeatureImportanceShannonRandomForest.ipynb\" target=\"_parent\"><img src=\"https://colab.research.google.com/assets/colab-badge.svg\" alt=\"Open In Colab\"/></a>"
      ]
    },
    {
      "cell_type": "code",
      "metadata": {
        "id": "GYt60va-zFWP",
        "outputId": "5f679724-b4e0-4f93-92ca-cac37e12f016",
        "colab": {
          "base_uri": "https://localhost:8080/"
        }
      },
      "source": [
        "from sklearn.ensemble import RandomForestClassifier\n",
        "\n",
        "from sklearn.pipeline import Pipeline\n",
        "\n",
        "from sklearn.preprocessing import MinMaxScaler\n",
        "from sklearn.preprocessing import Normalizer\n",
        "from sklearn.preprocessing import StandardScaler\n",
        "\n",
        "from sklearn.model_selection import cross_validate\n",
        "from sklearn.model_selection import KFold\n",
        "from sklearn.model_selection import train_test_split\n",
        "\n",
        "from sklearn.metrics import accuracy_score\n",
        "from sklearn.metrics import balanced_accuracy_score\n",
        "from sklearn.metrics import cohen_kappa_score\n",
        "from sklearn.metrics import confusion_matrix\n",
        "from sklearn.metrics import f1_score\n",
        "from sklearn.metrics import hamming_loss\n",
        "from sklearn.metrics import jaccard_score\n",
        "from sklearn.metrics import make_scorer\n",
        "from sklearn.metrics import matthews_corrcoef\n",
        "from sklearn.metrics import precision_score\n",
        "from sklearn.metrics import roc_auc_score\n",
        "from sklearn.metrics import recall_score\n",
        "from imblearn.metrics import geometric_mean_score"
      ],
      "execution_count": null,
      "outputs": [
        {
          "output_type": "stream",
          "text": [
            "/usr/local/lib/python3.6/dist-packages/sklearn/externals/six.py:31: FutureWarning: The module is deprecated in version 0.21 and will be removed in version 0.23 since we've dropped support for Python 2.7. Please rely on the official version of six (https://pypi.org/project/six/).\n",
            "  \"(https://pypi.org/project/six/).\", FutureWarning)\n",
            "/usr/local/lib/python3.6/dist-packages/sklearn/utils/deprecation.py:144: FutureWarning: The sklearn.neighbors.base module is  deprecated in version 0.22 and will be removed in version 0.24. The corresponding classes / functions should instead be imported from sklearn.neighbors. Anything that cannot be imported from sklearn.neighbors is now part of the private API.\n",
            "  warnings.warn(message, FutureWarning)\n",
            "/usr/local/lib/python3.6/dist-packages/sklearn/utils/deprecation.py:144: FutureWarning: The sklearn.metrics.classification module is  deprecated in version 0.22 and will be removed in version 0.24. The corresponding classes / functions should instead be imported from sklearn.metrics. Anything that cannot be imported from sklearn.metrics is now part of the private API.\n",
            "  warnings.warn(message, FutureWarning)\n"
          ],
          "name": "stderr"
        }
      ]
    },
    {
      "cell_type": "code",
      "metadata": {
        "id": "tCZac7cUz-7B"
      },
      "source": [
        "#help(geometric_mean_score)"
      ],
      "execution_count": null,
      "outputs": []
    },
    {
      "cell_type": "code",
      "metadata": {
        "id": "8u7YkbTBzPGh"
      },
      "source": [
        "import os\n",
        "from os import path\n",
        "\n",
        "import pandas as pd\n",
        "import numpy as np"
      ],
      "execution_count": null,
      "outputs": []
    },
    {
      "cell_type": "code",
      "metadata": {
        "id": "1nG51Pzt1QEK"
      },
      "source": [
        "from matplotlib import pyplot as plt \n",
        "import seaborn as sns"
      ],
      "execution_count": null,
      "outputs": []
    },
    {
      "cell_type": "code",
      "metadata": {
        "id": "cuhqKn94zPof",
        "outputId": "971ddd0d-80a8-4e39-b979-389fe4664225",
        "colab": {
          "base_uri": "https://localhost:8080/"
        }
      },
      "source": [
        "base_folder = \"/content/drive/Shared drives/PPGI_GILIARD/FeatureExtraction_SARS-CoV-2\"\n",
        "features_folder = \"/content/drive/Shared drives/PPGI_GILIARD/FeatureExtraction_SARS-CoV-2/data/processed\"\n",
        "\n",
        "assert path.exists(features_folder)\n",
        "\n",
        "folders = os.listdir(features_folder)\n",
        "\n",
        "folders"
      ],
      "execution_count": null,
      "outputs": [
        {
          "output_type": "execute_result",
          "data": {
            "text/plain": [
              "['1-covid', '2-other-viruses']"
            ]
          },
          "metadata": {
            "tags": []
          },
          "execution_count": 5
        }
      ]
    },
    {
      "cell_type": "code",
      "metadata": {
        "id": "KU-mQFKxzZTq",
        "outputId": "0fe33fb3-0e0b-4dc2-deb1-0dc7a9720bc1",
        "colab": {
          "base_uri": "https://localhost:8080/"
        }
      },
      "source": [
        "case_study = path.join(features_folder, folders[0])\n",
        "\n",
        "print(case_study,'\\n')\n",
        "\n",
        "files = os.listdir(case_study)\n",
        "\n",
        "files"
      ],
      "execution_count": null,
      "outputs": [
        {
          "output_type": "stream",
          "text": [
            "/content/drive/Shared drives/PPGI_GILIARD/FeatureExtraction_SARS-CoV-2/data/processed/1-covid \n",
            "\n"
          ],
          "name": "stdout"
        },
        {
          "output_type": "execute_result",
          "data": {
            "text/plain": [
              "['chaos-game-theory_r4.csv',\n",
              " 'complex-network-k3l10.csv',\n",
              " 'fourier-class-r5.csv',\n",
              " 'shannon-entropy-k12.csv']"
            ]
          },
          "metadata": {
            "tags": []
          },
          "execution_count": 6
        }
      ]
    },
    {
      "cell_type": "code",
      "metadata": {
        "id": "uAvCs-luzZ7F",
        "outputId": "ac7371ed-312e-473a-d3a7-90cb0a994bc6",
        "colab": {
          "base_uri": "https://localhost:8080/",
          "height": 238
        }
      },
      "source": [
        "file = files[3]\n",
        "\n",
        "print('loading data from...', file)\n",
        "\n",
        "frame = pd.read_csv(path.join(case_study, file))\n",
        "\n",
        "print('Shape ', frame.shape)\n",
        "\n",
        "frame.head()"
      ],
      "execution_count": null,
      "outputs": [
        {
          "output_type": "stream",
          "text": [
            "loading data from... shannon-entropy-k12.csv\n",
            "Shape  (1717, 14)\n"
          ],
          "name": "stdout"
        },
        {
          "output_type": "execute_result",
          "data": {
            "text/html": [
              "<div>\n",
              "<style scoped>\n",
              "    .dataframe tbody tr th:only-of-type {\n",
              "        vertical-align: middle;\n",
              "    }\n",
              "\n",
              "    .dataframe tbody tr th {\n",
              "        vertical-align: top;\n",
              "    }\n",
              "\n",
              "    .dataframe thead th {\n",
              "        text-align: right;\n",
              "    }\n",
              "</style>\n",
              "<table border=\"1\" class=\"dataframe\">\n",
              "  <thead>\n",
              "    <tr style=\"text-align: right;\">\n",
              "      <th></th>\n",
              "      <th>nameseq</th>\n",
              "      <th>k1</th>\n",
              "      <th>k2</th>\n",
              "      <th>k3</th>\n",
              "      <th>k4</th>\n",
              "      <th>k5</th>\n",
              "      <th>k6</th>\n",
              "      <th>k7</th>\n",
              "      <th>k8</th>\n",
              "      <th>k9</th>\n",
              "      <th>k10</th>\n",
              "      <th>k11</th>\n",
              "      <th>k12</th>\n",
              "      <th>class</th>\n",
              "    </tr>\n",
              "  </thead>\n",
              "  <tbody>\n",
              "    <tr>\n",
              "      <th>0</th>\n",
              "      <td>MN369046</td>\n",
              "      <td>1.947258</td>\n",
              "      <td>3.858477</td>\n",
              "      <td>5.760736</td>\n",
              "      <td>7.653392</td>\n",
              "      <td>9.525607</td>\n",
              "      <td>11.325758</td>\n",
              "      <td>12.884442</td>\n",
              "      <td>13.927217</td>\n",
              "      <td>14.440335</td>\n",
              "      <td>14.633892</td>\n",
              "      <td>14.696937</td>\n",
              "      <td>14.716328</td>\n",
              "      <td>0</td>\n",
              "    </tr>\n",
              "    <tr>\n",
              "      <th>1</th>\n",
              "      <td>MN306046</td>\n",
              "      <td>1.947011</td>\n",
              "      <td>3.858088</td>\n",
              "      <td>5.760560</td>\n",
              "      <td>7.653547</td>\n",
              "      <td>9.526318</td>\n",
              "      <td>11.327517</td>\n",
              "      <td>12.886543</td>\n",
              "      <td>13.930183</td>\n",
              "      <td>14.445938</td>\n",
              "      <td>14.641470</td>\n",
              "      <td>14.705093</td>\n",
              "      <td>14.724830</td>\n",
              "      <td>0</td>\n",
              "    </tr>\n",
              "    <tr>\n",
              "      <th>2</th>\n",
              "      <td>MF542265</td>\n",
              "      <td>1.946789</td>\n",
              "      <td>3.857781</td>\n",
              "      <td>5.759849</td>\n",
              "      <td>7.652205</td>\n",
              "      <td>9.524604</td>\n",
              "      <td>11.325808</td>\n",
              "      <td>12.885804</td>\n",
              "      <td>13.931567</td>\n",
              "      <td>14.447104</td>\n",
              "      <td>14.641521</td>\n",
              "      <td>14.705191</td>\n",
              "      <td>14.724444</td>\n",
              "      <td>0</td>\n",
              "    </tr>\n",
              "    <tr>\n",
              "      <th>3</th>\n",
              "      <td>KY983587</td>\n",
              "      <td>1.946912</td>\n",
              "      <td>3.857955</td>\n",
              "      <td>5.759917</td>\n",
              "      <td>7.651833</td>\n",
              "      <td>9.523715</td>\n",
              "      <td>11.323703</td>\n",
              "      <td>12.883437</td>\n",
              "      <td>13.930598</td>\n",
              "      <td>14.447270</td>\n",
              "      <td>14.641925</td>\n",
              "      <td>14.705766</td>\n",
              "      <td>14.724850</td>\n",
              "      <td>0</td>\n",
              "    </tr>\n",
              "    <tr>\n",
              "      <th>4</th>\n",
              "      <td>KY621348</td>\n",
              "      <td>1.947136</td>\n",
              "      <td>3.858235</td>\n",
              "      <td>5.760353</td>\n",
              "      <td>7.652140</td>\n",
              "      <td>9.523791</td>\n",
              "      <td>11.323748</td>\n",
              "      <td>12.882762</td>\n",
              "      <td>13.928372</td>\n",
              "      <td>14.444540</td>\n",
              "      <td>14.637878</td>\n",
              "      <td>14.701158</td>\n",
              "      <td>14.720012</td>\n",
              "      <td>0</td>\n",
              "    </tr>\n",
              "  </tbody>\n",
              "</table>\n",
              "</div>"
            ],
            "text/plain": [
              "    nameseq        k1        k2  ...        k11        k12  class\n",
              "0  MN369046  1.947258  3.858477  ...  14.696937  14.716328      0\n",
              "1  MN306046  1.947011  3.858088  ...  14.705093  14.724830      0\n",
              "2  MF542265  1.946789  3.857781  ...  14.705191  14.724444      0\n",
              "3  KY983587  1.946912  3.857955  ...  14.705766  14.724850      0\n",
              "4  KY621348  1.947136  3.858235  ...  14.701158  14.720012      0\n",
              "\n",
              "[5 rows x 14 columns]"
            ]
          },
          "metadata": {
            "tags": []
          },
          "execution_count": 7
        }
      ]
    },
    {
      "cell_type": "code",
      "metadata": {
        "id": "ekdLMC43zrTy"
      },
      "source": [
        "col = [f'k{i}' for i in range(1, 13)]\n",
        "col.append('class')\n",
        "\n",
        "# sns.pairplot(frame[col], hue='class')"
      ],
      "execution_count": null,
      "outputs": []
    },
    {
      "cell_type": "code",
      "metadata": {
        "id": "gbjVANOX0cwb",
        "outputId": "3527a107-21c1-4a6b-8ed4-ef0253ebee68",
        "colab": {
          "base_uri": "https://localhost:8080/"
        }
      },
      "source": [
        "rows, columns = frame.shape\n",
        "\n",
        "X = frame.iloc[:,1:(columns-1)]\n",
        "y   = frame.iloc[:, -1]\n",
        "\n",
        "labels = frame['class']\n",
        "\n",
        "train, test, train_labels, test_labels = train_test_split(X, y,\n",
        "                                                          test_size=0.3,\n",
        "                                                          random_state=12,\n",
        "                                                          stratify=labels)\n",
        "\n",
        "scaler = MinMaxScaler(feature_range=(0, 1))\n",
        "\n",
        "train = scaler.fit_transform(train)\n",
        "test =  scaler.transform(test)\n",
        "\n",
        "print(train.shape)\n",
        "print(test.shape)"
      ],
      "execution_count": null,
      "outputs": [
        {
          "output_type": "stream",
          "text": [
            "(1201, 12)\n",
            "(516, 12)\n"
          ],
          "name": "stdout"
        }
      ]
    },
    {
      "cell_type": "code",
      "metadata": {
        "id": "7ZvIAKbR0fR9",
        "outputId": "364de40d-1c46-452f-a7e1-fea04cf28ba9",
        "colab": {
          "base_uri": "https://localhost:8080/"
        }
      },
      "source": [
        "model = RandomForestClassifier(random_state=63, n_estimators=100)\n",
        "\n",
        "model.fit(train, train_labels)"
      ],
      "execution_count": null,
      "outputs": [
        {
          "output_type": "execute_result",
          "data": {
            "text/plain": [
              "RandomForestClassifier(bootstrap=True, ccp_alpha=0.0, class_weight=None,\n",
              "                       criterion='gini', max_depth=None, max_features='auto',\n",
              "                       max_leaf_nodes=None, max_samples=None,\n",
              "                       min_impurity_decrease=0.0, min_impurity_split=None,\n",
              "                       min_samples_leaf=1, min_samples_split=2,\n",
              "                       min_weight_fraction_leaf=0.0, n_estimators=100,\n",
              "                       n_jobs=None, oob_score=False, random_state=63, verbose=0,\n",
              "                       warm_start=False)"
            ]
          },
          "metadata": {
            "tags": []
          },
          "execution_count": 10
        }
      ]
    },
    {
      "cell_type": "code",
      "metadata": {
        "id": "EWaiOk9H1FAh"
      },
      "source": [
        "predicted = model.predict(test)"
      ],
      "execution_count": null,
      "outputs": []
    },
    {
      "cell_type": "code",
      "metadata": {
        "id": "_yEoG9Gv1El_",
        "outputId": "bc2af8b3-3e49-46c5-fcc8-62f5a75a6d79",
        "colab": {
          "base_uri": "https://localhost:8080/"
        }
      },
      "source": [
        "confusion_matrix(test_labels, predicted, labels=[1, 0])"
      ],
      "execution_count": null,
      "outputs": [
        {
          "output_type": "execute_result",
          "data": {
            "text/plain": [
              "array([[395,   0],\n",
              "       [  0, 121]])"
            ]
          },
          "metadata": {
            "tags": []
          },
          "execution_count": 12
        }
      ]
    },
    {
      "cell_type": "code",
      "metadata": {
        "id": "W5Zg-OIM3tG7",
        "outputId": "5b132a0f-d800-4180-a333-bc594167df8b",
        "colab": {
          "base_uri": "https://localhost:8080/"
        }
      },
      "source": [
        "geometric_mean_score(test_labels, predicted)"
      ],
      "execution_count": null,
      "outputs": [
        {
          "output_type": "execute_result",
          "data": {
            "text/plain": [
              "1.0"
            ]
          },
          "metadata": {
            "tags": []
          },
          "execution_count": 13
        }
      ]
    },
    {
      "cell_type": "code",
      "metadata": {
        "id": "q2L_33GT38XT",
        "outputId": "352a38c8-f263-45f8-83a7-f2efa48f2106",
        "colab": {
          "base_uri": "https://localhost:8080/"
        }
      },
      "source": [
        "model.feature_importances_"
      ],
      "execution_count": null,
      "outputs": [
        {
          "output_type": "execute_result",
          "data": {
            "text/plain": [
              "array([0.07329869, 0.04110021, 0.08012748, 0.06160596, 0.10311533,\n",
              "       0.03176553, 0.04957363, 0.08303127, 0.05552771, 0.1838724 ,\n",
              "       0.14224645, 0.09473534])"
            ]
          },
          "metadata": {
            "tags": []
          },
          "execution_count": 14
        }
      ]
    },
    {
      "cell_type": "code",
      "metadata": {
        "id": "wFK9jYf238Gw",
        "outputId": "7eb337d3-db5c-4bf0-d439-755bc49cac53",
        "colab": {
          "base_uri": "https://localhost:8080/"
        }
      },
      "source": [
        "indices = np.argsort(model.feature_importances_)[::-1]\n",
        "\n",
        "indices"
      ],
      "execution_count": null,
      "outputs": [
        {
          "output_type": "execute_result",
          "data": {
            "text/plain": [
              "array([ 9, 10,  4, 11,  7,  2,  0,  3,  8,  6,  1,  5])"
            ]
          },
          "metadata": {
            "tags": []
          },
          "execution_count": 15
        }
      ]
    },
    {
      "cell_type": "code",
      "metadata": {
        "id": "EkoQuwET5jb2",
        "outputId": "ecac80e5-57af-4d9e-b4c5-271e04ace84a",
        "colab": {
          "base_uri": "https://localhost:8080/"
        }
      },
      "source": [
        "col = [f'k{i}' for i in range(1, 13)]\n",
        "\n",
        "for i in range(X.shape[1]):\n",
        "  print(i+1, col[indices[i]], indices[i], model.feature_importances_[indices[i]])"
      ],
      "execution_count": null,
      "outputs": [
        {
          "output_type": "stream",
          "text": [
            "1 k10 9 0.18387240135673055\n",
            "2 k11 10 0.14224645416252638\n",
            "3 k5 4 0.10311533047773513\n",
            "4 k12 11 0.09473533533005365\n",
            "5 k8 7 0.08303127060839281\n",
            "6 k3 2 0.08012748458626572\n",
            "7 k1 0 0.07329869329293885\n",
            "8 k4 3 0.06160595563048366\n",
            "9 k9 8 0.055527707712612666\n",
            "10 k7 6 0.04957362764870113\n",
            "11 k2 1 0.04110020767084842\n",
            "12 k6 5 0.0317655315227109\n"
          ],
          "name": "stdout"
        }
      ]
    },
    {
      "cell_type": "code",
      "metadata": {
        "id": "1jwmKpm25_0v",
        "outputId": "642300e4-3eae-48e7-d665-dfec8be74752",
        "colab": {
          "base_uri": "https://localhost:8080/",
          "height": 321
        }
      },
      "source": [
        "\n",
        "plt.figure()\n",
        "\n",
        "col_order = [col[i] for i in indices]\n",
        "\n",
        "plt.title(\"Feature importances Random Forest\")\n",
        "plt.bar(range(X.shape[1]), model.feature_importances_[indices], color=\"r\", align=\"center\")\n",
        "plt.xlim([-1, X.shape[1]])\n",
        "plt.xticks(range(X.shape[1]), col_order, rotation='vertical')\n",
        "\n",
        "plt.ylabel('Relative Importance')\n",
        "plt.xlabel('Features')\n",
        "# plt.show()"
      ],
      "execution_count": null,
      "outputs": [
        {
          "output_type": "execute_result",
          "data": {
            "text/plain": [
              "Text(0.5, 0, 'Features')"
            ]
          },
          "metadata": {
            "tags": []
          },
          "execution_count": 17
        },
        {
          "output_type": "display_data",
          "data": {
            "image/png": "[encoded data removed]",
            "text/plain": [
              "<Figure size 432x288 with 1 Axes>"
            ]
          },
          "metadata": {
            "tags": [],
            "needs_background": "light"
          }
        }
      ]
    },
    {
      "cell_type": "markdown",
      "metadata": {
        "id": "Sjbq0icL9Sjn"
      },
      "source": [
        "--- \n",
        "\n",
        "## Test with most importante features"
      ]
    },
    {
      "cell_type": "code",
      "metadata": {
        "id": "M7v8PQUX9hb3"
      },
      "source": [
        "# selected_features = ['k10', 'k11', 'k5', 'k12', 'class']\n",
        "# selected_features = ['k10', 'k11', 'k5', 'class']\n",
        "selected_features = ['k10', 'k11', 'class']\n",
        "# selected_features = ['k10', 'class']\n",
        "\n",
        "# selected_features = ['k9', 'k8', 'class']"
      ],
      "execution_count": null,
      "outputs": []
    },
    {
      "cell_type": "code",
      "metadata": {
        "id": "v07SzpRS8nTU",
        "outputId": "2b6002ef-5a11-42e5-d0db-30f8d9238216",
        "colab": {
          "base_uri": "https://localhost:8080/",
          "height": 238
        }
      },
      "source": [
        "print('loading data from...', file)\n",
        "\n",
        "frame = pd.read_csv(path.join(case_study, file))[selected_features]\n",
        "\n",
        "print('Shape ', frame.shape)\n",
        "\n",
        "frame.head()"
      ],
      "execution_count": null,
      "outputs": [
        {
          "output_type": "stream",
          "text": [
            "loading data from... shannon-entropy-k12.csv\n",
            "Shape  (1717, 3)\n"
          ],
          "name": "stdout"
        },
        {
          "output_type": "execute_result",
          "data": {
            "text/html": [
              "<div>\n",
              "<style scoped>\n",
              "    .dataframe tbody tr th:only-of-type {\n",
              "        vertical-align: middle;\n",
              "    }\n",
              "\n",
              "    .dataframe tbody tr th {\n",
              "        vertical-align: top;\n",
              "    }\n",
              "\n",
              "    .dataframe thead th {\n",
              "        text-align: right;\n",
              "    }\n",
              "</style>\n",
              "<table border=\"1\" class=\"dataframe\">\n",
              "  <thead>\n",
              "    <tr style=\"text-align: right;\">\n",
              "      <th></th>\n",
              "      <th>k10</th>\n",
              "      <th>k11</th>\n",
              "      <th>class</th>\n",
              "    </tr>\n",
              "  </thead>\n",
              "  <tbody>\n",
              "    <tr>\n",
              "      <th>0</th>\n",
              "      <td>14.633892</td>\n",
              "      <td>14.696937</td>\n",
              "      <td>0</td>\n",
              "    </tr>\n",
              "    <tr>\n",
              "      <th>1</th>\n",
              "      <td>14.641470</td>\n",
              "      <td>14.705093</td>\n",
              "      <td>0</td>\n",
              "    </tr>\n",
              "    <tr>\n",
              "      <th>2</th>\n",
              "      <td>14.641521</td>\n",
              "      <td>14.705191</td>\n",
              "      <td>0</td>\n",
              "    </tr>\n",
              "    <tr>\n",
              "      <th>3</th>\n",
              "      <td>14.641925</td>\n",
              "      <td>14.705766</td>\n",
              "      <td>0</td>\n",
              "    </tr>\n",
              "    <tr>\n",
              "      <th>4</th>\n",
              "      <td>14.637878</td>\n",
              "      <td>14.701158</td>\n",
              "      <td>0</td>\n",
              "    </tr>\n",
              "  </tbody>\n",
              "</table>\n",
              "</div>"
            ],
            "text/plain": [
              "         k10        k11  class\n",
              "0  14.633892  14.696937      0\n",
              "1  14.641470  14.705093      0\n",
              "2  14.641521  14.705191      0\n",
              "3  14.641925  14.705766      0\n",
              "4  14.637878  14.701158      0"
            ]
          },
          "metadata": {
            "tags": []
          },
          "execution_count": 19
        }
      ]
    },
    {
      "cell_type": "code",
      "metadata": {
        "id": "-1omq1_09odd",
        "outputId": "911866e9-68ab-4cce-f40c-bc39c99640b4",
        "colab": {
          "base_uri": "https://localhost:8080/",
          "height": 391
        }
      },
      "source": [
        "sns.pairplot(frame, hue='class')"
      ],
      "execution_count": null,
      "outputs": [
        {
          "output_type": "execute_result",
          "data": {
            "text/plain": [
              "<seaborn.axisgrid.PairGrid at 0x7f5c2db09ef0>"
            ]
          },
          "metadata": {
            "tags": []
          },
          "execution_count": 20
        },
        {
          "output_type": "display_data",
          "data": {
            "image/png": "[encoded data removed]",
            "text/plain": [
              "<Figure size 402.375x360 with 6 Axes>"
            ]
          },
          "metadata": {
            "tags": [],
            "needs_background": "light"
          }
        }
      ]
    },
    {
      "cell_type": "code",
      "metadata": {
        "id": "kJRmhCyO1i28",
        "outputId": "89c4218f-4a60-4a8a-eb5f-34fbe8af2077",
        "colab": {
          "base_uri": "https://localhost:8080/",
          "height": 458
        }
      },
      "source": [
        "g = sns.JointGrid(data=frame, x=selected_features[0], y=selected_features[1], hue='class')\n",
        "\n",
        "g.plot_joint(sns.scatterplot)\n",
        "g.plot_marginals(sns.kdeplot)"
      ],
      "execution_count": null,
      "outputs": [
        {
          "output_type": "execute_result",
          "data": {
            "text/plain": [
              "<seaborn.axisgrid.JointGrid at 0x7f5c2988fa20>"
            ]
          },
          "metadata": {
            "tags": []
          },
          "execution_count": 22
        },
        {
          "output_type": "display_data",
          "data": {
            "image/png": "[encoded data removed]",
            "text/plain": [
              "<Figure size 432x432 with 3 Axes>"
            ]
          },
          "metadata": {
            "tags": [],
            "needs_background": "light"
          }
        }
      ]
    },
    {
      "cell_type": "code",
      "metadata": {
        "id": "SKrT27vK9fhD",
        "outputId": "b70bdf81-ecc0-4123-b351-f116250591d3",
        "colab": {
          "base_uri": "https://localhost:8080/"
        }
      },
      "source": [
        "rows, columns = frame.shape\n",
        "\n",
        "X = frame.drop(labels=['class'], axis=1)\n",
        "y   = frame['class']\n",
        "\n",
        "labels = frame['class']\n",
        "\n",
        "train, test, train_labels, test_labels = train_test_split(X, y,\n",
        "                                                          test_size=0.3,\n",
        "                                                          random_state=12,\n",
        "                                                          stratify=labels)\n",
        "\n",
        "scaler = MinMaxScaler(feature_range=(0, 1))\n",
        "\n",
        "train = scaler.fit_transform(train)\n",
        "test =  scaler.transform(test)\n",
        "\n",
        "print(train.shape)\n",
        "print(test.shape)"
      ],
      "execution_count": null,
      "outputs": [
        {
          "output_type": "stream",
          "text": [
            "(1201, 2)\n",
            "(516, 2)\n"
          ],
          "name": "stdout"
        }
      ]
    },
    {
      "cell_type": "code",
      "metadata": {
        "id": "GqVtKWxx-jYG",
        "outputId": "33905f8d-fa55-4cbb-c021-2d4fb3eb1cda",
        "colab": {
          "base_uri": "https://localhost:8080/",
          "height": 204
        }
      },
      "source": [
        "X.head()"
      ],
      "execution_count": null,
      "outputs": [
        {
          "output_type": "execute_result",
          "data": {
            "text/html": [
              "<div>\n",
              "<style scoped>\n",
              "    .dataframe tbody tr th:only-of-type {\n",
              "        vertical-align: middle;\n",
              "    }\n",
              "\n",
              "    .dataframe tbody tr th {\n",
              "        vertical-align: top;\n",
              "    }\n",
              "\n",
              "    .dataframe thead th {\n",
              "        text-align: right;\n",
              "    }\n",
              "</style>\n",
              "<table border=\"1\" class=\"dataframe\">\n",
              "  <thead>\n",
              "    <tr style=\"text-align: right;\">\n",
              "      <th></th>\n",
              "      <th>k10</th>\n",
              "      <th>k11</th>\n",
              "    </tr>\n",
              "  </thead>\n",
              "  <tbody>\n",
              "    <tr>\n",
              "      <th>0</th>\n",
              "      <td>14.633892</td>\n",
              "      <td>14.696937</td>\n",
              "    </tr>\n",
              "    <tr>\n",
              "      <th>1</th>\n",
              "      <td>14.641470</td>\n",
              "      <td>14.705093</td>\n",
              "    </tr>\n",
              "    <tr>\n",
              "      <th>2</th>\n",
              "      <td>14.641521</td>\n",
              "      <td>14.705191</td>\n",
              "    </tr>\n",
              "    <tr>\n",
              "      <th>3</th>\n",
              "      <td>14.641925</td>\n",
              "      <td>14.705766</td>\n",
              "    </tr>\n",
              "    <tr>\n",
              "      <th>4</th>\n",
              "      <td>14.637878</td>\n",
              "      <td>14.701158</td>\n",
              "    </tr>\n",
              "  </tbody>\n",
              "</table>\n",
              "</div>"
            ],
            "text/plain": [
              "         k10        k11\n",
              "0  14.633892  14.696937\n",
              "1  14.641470  14.705093\n",
              "2  14.641521  14.705191\n",
              "3  14.641925  14.705766\n",
              "4  14.637878  14.701158"
            ]
          },
          "metadata": {
            "tags": []
          },
          "execution_count": 24
        }
      ]
    },
    {
      "cell_type": "code",
      "metadata": {
        "id": "nfNkwdBt-oi0"
      },
      "source": [
        "model = RandomForestClassifier(random_state=63, n_estimators=100)\n",
        "\n",
        "model.fit(train, train_labels)\n",
        "\n",
        "predicted = model.predict(test)"
      ],
      "execution_count": null,
      "outputs": []
    },
    {
      "cell_type": "code",
      "metadata": {
        "id": "AvLnqhJa_H4l",
        "outputId": "28668bad-1aed-4acd-a0ce-3d6d65ed0d17",
        "colab": {
          "base_uri": "https://localhost:8080/"
        }
      },
      "source": [
        "confusion_matrix(test_labels, predicted, labels=[1, 0])"
      ],
      "execution_count": null,
      "outputs": [
        {
          "output_type": "execute_result",
          "data": {
            "text/plain": [
              "array([[395,   0],\n",
              "       [  0, 121]])"
            ]
          },
          "metadata": {
            "tags": []
          },
          "execution_count": 26
        }
      ]
    },
    {
      "cell_type": "code",
      "metadata": {
        "id": "NSkz0cQF_Lgn",
        "outputId": "5b60aedc-4f87-4530-a23b-f14c6207a9a8",
        "colab": {
          "base_uri": "https://localhost:8080/"
        }
      },
      "source": [
        "geometric_mean_score(test_labels, predicted)"
      ],
      "execution_count": null,
      "outputs": [
        {
          "output_type": "execute_result",
          "data": {
            "text/plain": [
              "1.0"
            ]
          },
          "metadata": {
            "tags": []
          },
          "execution_count": 27
        }
      ]
    },
    {
      "cell_type": "code",
      "metadata": {
        "id": "lBq-8EA7_Pjy"
      },
      "source": [
        ""
      ],
      "execution_count": null,
      "outputs": []
    }
  ]
}