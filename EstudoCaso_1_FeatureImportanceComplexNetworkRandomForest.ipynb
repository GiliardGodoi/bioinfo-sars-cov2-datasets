{
  "nbformat": 4,
  "nbformat_minor": 0,
  "metadata": {
    "colab": {
      "name": "EstudoCaso_1_FeatureImportanceComplexNetworkRandomForest.ipynb",
      "provenance": [],
      "collapsed_sections": [],
      "mount_file_id": "102D2SJ_xvl9PTeGyWehfu_cbkgmeyyVI",
      "authorship_tag": "ABX9TyMSrYzb3YzsYKEr+7j/mHMV",
      "include_colab_link": true
    },
    "kernelspec": {
      "name": "python3",
      "display_name": "Python 3"
    }
  },
  "cells": [
    {
      "cell_type": "markdown",
      "metadata": {
        "id": "view-in-github",
        "colab_type": "text"
      },
      "source": [
        "<a href=\"https://colab.research.google.com/github/GiliardGodoi/bioinfo-sars-cov2-datasets/blob/main/EstudoCaso_1_FeatureImportanceComplexNetworkRandomForest.ipynb\" target=\"_parent\"><img src=\"https://colab.research.google.com/assets/colab-badge.svg\" alt=\"Open In Colab\"/></a>"
      ]
    },
    {
      "cell_type": "code",
      "metadata": {
        "id": "GYt60va-zFWP",
        "outputId": "8c79a1e4-7282-4cc7-daf7-8d9d1dee0fa8",
        "colab": {
          "base_uri": "https://localhost:8080/"
        }
      },
      "source": [
        "from sklearn.ensemble import RandomForestClassifier\n",
        "\n",
        "from sklearn.pipeline import Pipeline\n",
        "\n",
        "from sklearn.preprocessing import MinMaxScaler\n",
        "from sklearn.preprocessing import Normalizer\n",
        "from sklearn.preprocessing import StandardScaler\n",
        "\n",
        "from sklearn.model_selection import cross_validate\n",
        "from sklearn.model_selection import KFold\n",
        "from sklearn.model_selection import train_test_split\n",
        "\n",
        "from sklearn.metrics import accuracy_score\n",
        "from sklearn.metrics import balanced_accuracy_score\n",
        "from sklearn.metrics import cohen_kappa_score\n",
        "from sklearn.metrics import confusion_matrix\n",
        "from sklearn.metrics import f1_score\n",
        "from sklearn.metrics import hamming_loss\n",
        "from sklearn.metrics import jaccard_score\n",
        "from sklearn.metrics import make_scorer\n",
        "from sklearn.metrics import matthews_corrcoef\n",
        "from sklearn.metrics import precision_score\n",
        "from sklearn.metrics import roc_auc_score\n",
        "from sklearn.metrics import recall_score\n",
        "from imblearn.metrics import geometric_mean_score"
      ],
      "execution_count": 1,
      "outputs": [
        {
          "output_type": "stream",
          "text": [
            "/usr/local/lib/python3.6/dist-packages/sklearn/externals/six.py:31: FutureWarning: The module is deprecated in version 0.21 and will be removed in version 0.23 since we've dropped support for Python 2.7. Please rely on the official version of six (https://pypi.org/project/six/).\n",
            "  \"(https://pypi.org/project/six/).\", FutureWarning)\n",
            "/usr/local/lib/python3.6/dist-packages/sklearn/utils/deprecation.py:144: FutureWarning: The sklearn.neighbors.base module is  deprecated in version 0.22 and will be removed in version 0.24. The corresponding classes / functions should instead be imported from sklearn.neighbors. Anything that cannot be imported from sklearn.neighbors is now part of the private API.\n",
            "  warnings.warn(message, FutureWarning)\n",
            "/usr/local/lib/python3.6/dist-packages/sklearn/utils/deprecation.py:144: FutureWarning: The sklearn.metrics.classification module is  deprecated in version 0.22 and will be removed in version 0.24. The corresponding classes / functions should instead be imported from sklearn.metrics. Anything that cannot be imported from sklearn.metrics is now part of the private API.\n",
            "  warnings.warn(message, FutureWarning)\n"
          ],
          "name": "stderr"
        }
      ]
    },
    {
      "cell_type": "code",
      "metadata": {
        "id": "tCZac7cUz-7B"
      },
      "source": [
        "#help(geometric_mean_score)"
      ],
      "execution_count": 2,
      "outputs": []
    },
    {
      "cell_type": "code",
      "metadata": {
        "id": "8u7YkbTBzPGh"
      },
      "source": [
        "import os\n",
        "from os import path\n",
        "\n",
        "import pandas as pd\n",
        "import numpy as np"
      ],
      "execution_count": 3,
      "outputs": []
    },
    {
      "cell_type": "code",
      "metadata": {
        "id": "1nG51Pzt1QEK"
      },
      "source": [
        "from matplotlib import pyplot as plt \n",
        "import seaborn as sns"
      ],
      "execution_count": 4,
      "outputs": []
    },
    {
      "cell_type": "code",
      "metadata": {
        "id": "cuhqKn94zPof",
        "outputId": "fe328826-2288-4491-cee0-d10ad3ad8f90",
        "colab": {
          "base_uri": "https://localhost:8080/"
        }
      },
      "source": [
        "base_folder = \"/content/drive/Shared drives/PPGI_GILIARD/FeatureExtraction_SARS-CoV-2\"\n",
        "features_folder = \"/content/drive/Shared drives/PPGI_GILIARD/FeatureExtraction_SARS-CoV-2/data/processed\"\n",
        "\n",
        "assert path.exists(features_folder)\n",
        "\n",
        "folders = os.listdir(features_folder)\n",
        "\n",
        "folders"
      ],
      "execution_count": 5,
      "outputs": [
        {
          "output_type": "execute_result",
          "data": {
            "text/plain": [
              "['1-covid', '2-other-viruses']"
            ]
          },
          "metadata": {
            "tags": []
          },
          "execution_count": 5
        }
      ]
    },
    {
      "cell_type": "code",
      "metadata": {
        "id": "KU-mQFKxzZTq",
        "outputId": "977dc5de-9e3b-48f8-d7dc-f515c77ad6b3",
        "colab": {
          "base_uri": "https://localhost:8080/"
        }
      },
      "source": [
        "case_study = path.join(features_folder, folders[0])\n",
        "\n",
        "print(case_study,'\\n')\n",
        "\n",
        "files = os.listdir(case_study)\n",
        "\n",
        "files"
      ],
      "execution_count": 6,
      "outputs": [
        {
          "output_type": "stream",
          "text": [
            "/content/drive/Shared drives/PPGI_GILIARD/FeatureExtraction_SARS-CoV-2/data/processed/1-covid \n",
            "\n"
          ],
          "name": "stdout"
        },
        {
          "output_type": "execute_result",
          "data": {
            "text/plain": [
              "['chaos-game-theory_r4.csv',\n",
              " 'complex-network-k3l10.csv',\n",
              " 'fourier-class-r5.csv',\n",
              " 'shannon-entropy-k12.csv']"
            ]
          },
          "metadata": {
            "tags": []
          },
          "execution_count": 6
        }
      ]
    },
    {
      "cell_type": "code",
      "metadata": {
        "id": "uAvCs-luzZ7F",
        "outputId": "688661d0-3738-42ae-c2f8-a5861c29e919",
        "colab": {
          "base_uri": "https://localhost:8080/",
          "height": 287
        }
      },
      "source": [
        "file = files[1]\n",
        "\n",
        "print('loading data from...', file)\n",
        "\n",
        "frame = pd.read_csv(path.join(case_study, file))\n",
        "\n",
        "print('Shape ', frame.shape)\n",
        "\n",
        "frame.head()"
      ],
      "execution_count": 7,
      "outputs": [
        {
          "output_type": "stream",
          "text": [
            "loading data from... complex-network-k3l10.csv\n",
            "Shape  (1717, 122)\n"
          ],
          "name": "stdout"
        },
        {
          "output_type": "execute_result",
          "data": {
            "text/html": [
              "<div>\n",
              "<style scoped>\n",
              "    .dataframe tbody tr th:only-of-type {\n",
              "        vertical-align: middle;\n",
              "    }\n",
              "\n",
              "    .dataframe tbody tr th {\n",
              "        vertical-align: top;\n",
              "    }\n",
              "\n",
              "    .dataframe thead th {\n",
              "        text-align: right;\n",
              "    }\n",
              "</style>\n",
              "<table border=\"1\" class=\"dataframe\">\n",
              "  <thead>\n",
              "    <tr style=\"text-align: right;\">\n",
              "      <th></th>\n",
              "      <th>nameseq</th>\n",
              "      <th>AB.1</th>\n",
              "      <th>AD.1</th>\n",
              "      <th>ASSD.1</th>\n",
              "      <th>MAXD.1</th>\n",
              "      <th>MIND.1</th>\n",
              "      <th>AS.1</th>\n",
              "      <th>APL.1</th>\n",
              "      <th>TALU.1</th>\n",
              "      <th>TU.1</th>\n",
              "      <th>NE.1</th>\n",
              "      <th>MOT3.1</th>\n",
              "      <th>MOT4.1</th>\n",
              "      <th>AB.2</th>\n",
              "      <th>AD.2</th>\n",
              "      <th>ASSD.2</th>\n",
              "      <th>MAXD.2</th>\n",
              "      <th>MIND.2</th>\n",
              "      <th>AS.2</th>\n",
              "      <th>APL.2</th>\n",
              "      <th>TALU.2</th>\n",
              "      <th>TU.2</th>\n",
              "      <th>NE.2</th>\n",
              "      <th>MOT3.2</th>\n",
              "      <th>MOT4.2</th>\n",
              "      <th>AB.3</th>\n",
              "      <th>AD.3</th>\n",
              "      <th>ASSD.3</th>\n",
              "      <th>MAXD.3</th>\n",
              "      <th>MIND.3</th>\n",
              "      <th>AS.3</th>\n",
              "      <th>APL.3</th>\n",
              "      <th>TALU.3</th>\n",
              "      <th>TU.3</th>\n",
              "      <th>NE.3</th>\n",
              "      <th>MOT3.3</th>\n",
              "      <th>MOT4.3</th>\n",
              "      <th>AB.4</th>\n",
              "      <th>AD.4</th>\n",
              "      <th>ASSD.4</th>\n",
              "      <th>...</th>\n",
              "      <th>NE.7</th>\n",
              "      <th>MOT3.7</th>\n",
              "      <th>MOT4.7</th>\n",
              "      <th>AB.8</th>\n",
              "      <th>AD.8</th>\n",
              "      <th>ASSD.8</th>\n",
              "      <th>MAXD.8</th>\n",
              "      <th>MIND.8</th>\n",
              "      <th>AS.8</th>\n",
              "      <th>APL.8</th>\n",
              "      <th>TALU.8</th>\n",
              "      <th>TU.8</th>\n",
              "      <th>NE.8</th>\n",
              "      <th>MOT3.8</th>\n",
              "      <th>MOT4.8</th>\n",
              "      <th>AB.9</th>\n",
              "      <th>AD.9</th>\n",
              "      <th>ASSD.9</th>\n",
              "      <th>MAXD.9</th>\n",
              "      <th>MIND.9</th>\n",
              "      <th>AS.9</th>\n",
              "      <th>APL.9</th>\n",
              "      <th>TALU.9</th>\n",
              "      <th>TU.9</th>\n",
              "      <th>NE.9</th>\n",
              "      <th>MOT3.9</th>\n",
              "      <th>MOT4.9</th>\n",
              "      <th>AB.10</th>\n",
              "      <th>AD.10</th>\n",
              "      <th>ASSD.10</th>\n",
              "      <th>MAXD.10</th>\n",
              "      <th>MIND.10</th>\n",
              "      <th>AS.10</th>\n",
              "      <th>APL.10</th>\n",
              "      <th>TALU.10</th>\n",
              "      <th>TU.10</th>\n",
              "      <th>NE.10</th>\n",
              "      <th>MOT3.10</th>\n",
              "      <th>MOT4.10</th>\n",
              "      <th>label</th>\n",
              "    </tr>\n",
              "  </thead>\n",
              "  <tbody>\n",
              "    <tr>\n",
              "      <th>0</th>\n",
              "      <td>MN369046</td>\n",
              "      <td>41.625</td>\n",
              "      <td>846.00000</td>\n",
              "      <td>0.579230</td>\n",
              "      <td>2270.0</td>\n",
              "      <td>122.0</td>\n",
              "      <td>487.151703</td>\n",
              "      <td>2.321429</td>\n",
              "      <td>0.113393</td>\n",
              "      <td>0.101449</td>\n",
              "      <td>27072.0</td>\n",
              "      <td>1544.0</td>\n",
              "      <td>10844.0</td>\n",
              "      <td>41.625</td>\n",
              "      <td>846.00000</td>\n",
              "      <td>0.579230</td>\n",
              "      <td>2270.0</td>\n",
              "      <td>122.0</td>\n",
              "      <td>487.151703</td>\n",
              "      <td>2.321429</td>\n",
              "      <td>0.113393</td>\n",
              "      <td>0.101449</td>\n",
              "      <td>27072.0</td>\n",
              "      <td>1544.0</td>\n",
              "      <td>10844.0</td>\n",
              "      <td>41.625</td>\n",
              "      <td>846.00000</td>\n",
              "      <td>0.579230</td>\n",
              "      <td>2270.0</td>\n",
              "      <td>122.0</td>\n",
              "      <td>487.151703</td>\n",
              "      <td>2.321429</td>\n",
              "      <td>0.113393</td>\n",
              "      <td>0.101449</td>\n",
              "      <td>27072.0</td>\n",
              "      <td>1544.0</td>\n",
              "      <td>10844.0</td>\n",
              "      <td>41.625</td>\n",
              "      <td>846.00000</td>\n",
              "      <td>0.579230</td>\n",
              "      <td>...</td>\n",
              "      <td>27072.0</td>\n",
              "      <td>1544.0</td>\n",
              "      <td>10844.0</td>\n",
              "      <td>41.750000</td>\n",
              "      <td>845.59375</td>\n",
              "      <td>0.578471</td>\n",
              "      <td>2270.0</td>\n",
              "      <td>115.0</td>\n",
              "      <td>487.716001</td>\n",
              "      <td>2.325397</td>\n",
              "      <td>0.114881</td>\n",
              "      <td>0.102314</td>\n",
              "      <td>27072.0</td>\n",
              "      <td>1530.0</td>\n",
              "      <td>10707.0</td>\n",
              "      <td>41.875000</td>\n",
              "      <td>844.84375</td>\n",
              "      <td>0.577208</td>\n",
              "      <td>2270.0</td>\n",
              "      <td>107.0</td>\n",
              "      <td>488.757839</td>\n",
              "      <td>2.329365</td>\n",
              "      <td>0.110119</td>\n",
              "      <td>0.096356</td>\n",
              "      <td>27072.0</td>\n",
              "      <td>1515.0</td>\n",
              "      <td>10581.0</td>\n",
              "      <td>41.921875</td>\n",
              "      <td>844.56250</td>\n",
              "      <td>0.576741</td>\n",
              "      <td>2270.0</td>\n",
              "      <td>107.0</td>\n",
              "      <td>489.160885</td>\n",
              "      <td>2.330853</td>\n",
              "      <td>0.105320</td>\n",
              "      <td>0.091361</td>\n",
              "      <td>27072.0</td>\n",
              "      <td>1511.0</td>\n",
              "      <td>10553.0</td>\n",
              "      <td>0</td>\n",
              "    </tr>\n",
              "    <tr>\n",
              "      <th>1</th>\n",
              "      <td>MN306046</td>\n",
              "      <td>41.625</td>\n",
              "      <td>852.09375</td>\n",
              "      <td>0.577884</td>\n",
              "      <td>2296.0</td>\n",
              "      <td>126.0</td>\n",
              "      <td>491.176989</td>\n",
              "      <td>2.321429</td>\n",
              "      <td>0.113393</td>\n",
              "      <td>0.101449</td>\n",
              "      <td>27267.0</td>\n",
              "      <td>1544.0</td>\n",
              "      <td>10844.0</td>\n",
              "      <td>41.625</td>\n",
              "      <td>852.09375</td>\n",
              "      <td>0.577884</td>\n",
              "      <td>2296.0</td>\n",
              "      <td>126.0</td>\n",
              "      <td>491.176989</td>\n",
              "      <td>2.321429</td>\n",
              "      <td>0.113393</td>\n",
              "      <td>0.101449</td>\n",
              "      <td>27267.0</td>\n",
              "      <td>1544.0</td>\n",
              "      <td>10844.0</td>\n",
              "      <td>41.625</td>\n",
              "      <td>852.09375</td>\n",
              "      <td>0.577884</td>\n",
              "      <td>2296.0</td>\n",
              "      <td>126.0</td>\n",
              "      <td>491.176989</td>\n",
              "      <td>2.321429</td>\n",
              "      <td>0.113393</td>\n",
              "      <td>0.101449</td>\n",
              "      <td>27267.0</td>\n",
              "      <td>1544.0</td>\n",
              "      <td>10844.0</td>\n",
              "      <td>41.625</td>\n",
              "      <td>852.09375</td>\n",
              "      <td>0.577884</td>\n",
              "      <td>...</td>\n",
              "      <td>27267.0</td>\n",
              "      <td>1544.0</td>\n",
              "      <td>10844.0</td>\n",
              "      <td>41.625000</td>\n",
              "      <td>852.09375</td>\n",
              "      <td>0.577884</td>\n",
              "      <td>2296.0</td>\n",
              "      <td>126.0</td>\n",
              "      <td>491.176989</td>\n",
              "      <td>2.321429</td>\n",
              "      <td>0.113393</td>\n",
              "      <td>0.101449</td>\n",
              "      <td>27267.0</td>\n",
              "      <td>1544.0</td>\n",
              "      <td>10844.0</td>\n",
              "      <td>41.828125</td>\n",
              "      <td>851.09375</td>\n",
              "      <td>0.576210</td>\n",
              "      <td>2296.0</td>\n",
              "      <td>118.0</td>\n",
              "      <td>492.552558</td>\n",
              "      <td>2.327877</td>\n",
              "      <td>0.113728</td>\n",
              "      <td>0.101227</td>\n",
              "      <td>27267.0</td>\n",
              "      <td>1520.0</td>\n",
              "      <td>10618.0</td>\n",
              "      <td>41.875000</td>\n",
              "      <td>850.81250</td>\n",
              "      <td>0.575657</td>\n",
              "      <td>2296.0</td>\n",
              "      <td>109.0</td>\n",
              "      <td>492.944370</td>\n",
              "      <td>2.329365</td>\n",
              "      <td>0.110119</td>\n",
              "      <td>0.096356</td>\n",
              "      <td>27267.0</td>\n",
              "      <td>1515.0</td>\n",
              "      <td>10581.0</td>\n",
              "      <td>0</td>\n",
              "    </tr>\n",
              "    <tr>\n",
              "      <th>2</th>\n",
              "      <td>MF542265</td>\n",
              "      <td>41.625</td>\n",
              "      <td>852.12500</td>\n",
              "      <td>0.578589</td>\n",
              "      <td>2292.0</td>\n",
              "      <td>128.0</td>\n",
              "      <td>491.799200</td>\n",
              "      <td>2.321429</td>\n",
              "      <td>0.113393</td>\n",
              "      <td>0.101449</td>\n",
              "      <td>27268.0</td>\n",
              "      <td>1544.0</td>\n",
              "      <td>10844.0</td>\n",
              "      <td>41.625</td>\n",
              "      <td>852.12500</td>\n",
              "      <td>0.578589</td>\n",
              "      <td>2292.0</td>\n",
              "      <td>128.0</td>\n",
              "      <td>491.799200</td>\n",
              "      <td>2.321429</td>\n",
              "      <td>0.113393</td>\n",
              "      <td>0.101449</td>\n",
              "      <td>27268.0</td>\n",
              "      <td>1544.0</td>\n",
              "      <td>10844.0</td>\n",
              "      <td>41.625</td>\n",
              "      <td>852.12500</td>\n",
              "      <td>0.578589</td>\n",
              "      <td>2292.0</td>\n",
              "      <td>128.0</td>\n",
              "      <td>491.799200</td>\n",
              "      <td>2.321429</td>\n",
              "      <td>0.113393</td>\n",
              "      <td>0.101449</td>\n",
              "      <td>27268.0</td>\n",
              "      <td>1544.0</td>\n",
              "      <td>10844.0</td>\n",
              "      <td>41.625</td>\n",
              "      <td>852.12500</td>\n",
              "      <td>0.578589</td>\n",
              "      <td>...</td>\n",
              "      <td>27268.0</td>\n",
              "      <td>1544.0</td>\n",
              "      <td>10844.0</td>\n",
              "      <td>41.703125</td>\n",
              "      <td>851.53125</td>\n",
              "      <td>0.577599</td>\n",
              "      <td>2292.0</td>\n",
              "      <td>128.0</td>\n",
              "      <td>492.603256</td>\n",
              "      <td>2.323909</td>\n",
              "      <td>0.112091</td>\n",
              "      <td>0.100426</td>\n",
              "      <td>27268.0</td>\n",
              "      <td>1533.0</td>\n",
              "      <td>10747.0</td>\n",
              "      <td>41.765625</td>\n",
              "      <td>851.28125</td>\n",
              "      <td>0.577116</td>\n",
              "      <td>2292.0</td>\n",
              "      <td>120.0</td>\n",
              "      <td>492.950475</td>\n",
              "      <td>2.325893</td>\n",
              "      <td>0.108929</td>\n",
              "      <td>0.095647</td>\n",
              "      <td>27268.0</td>\n",
              "      <td>1527.0</td>\n",
              "      <td>10699.0</td>\n",
              "      <td>41.875000</td>\n",
              "      <td>851.00000</td>\n",
              "      <td>0.576620</td>\n",
              "      <td>2292.0</td>\n",
              "      <td>111.0</td>\n",
              "      <td>493.365737</td>\n",
              "      <td>2.329365</td>\n",
              "      <td>0.110119</td>\n",
              "      <td>0.096356</td>\n",
              "      <td>27268.0</td>\n",
              "      <td>1515.0</td>\n",
              "      <td>10581.0</td>\n",
              "      <td>0</td>\n",
              "    </tr>\n",
              "    <tr>\n",
              "      <th>3</th>\n",
              "      <td>KY983587</td>\n",
              "      <td>41.625</td>\n",
              "      <td>851.00000</td>\n",
              "      <td>0.578901</td>\n",
              "      <td>2294.0</td>\n",
              "      <td>124.0</td>\n",
              "      <td>490.863493</td>\n",
              "      <td>2.321429</td>\n",
              "      <td>0.113393</td>\n",
              "      <td>0.101449</td>\n",
              "      <td>27232.0</td>\n",
              "      <td>1544.0</td>\n",
              "      <td>10844.0</td>\n",
              "      <td>41.625</td>\n",
              "      <td>851.00000</td>\n",
              "      <td>0.578901</td>\n",
              "      <td>2294.0</td>\n",
              "      <td>124.0</td>\n",
              "      <td>490.863493</td>\n",
              "      <td>2.321429</td>\n",
              "      <td>0.113393</td>\n",
              "      <td>0.101449</td>\n",
              "      <td>27232.0</td>\n",
              "      <td>1544.0</td>\n",
              "      <td>10844.0</td>\n",
              "      <td>41.625</td>\n",
              "      <td>851.00000</td>\n",
              "      <td>0.578901</td>\n",
              "      <td>2294.0</td>\n",
              "      <td>124.0</td>\n",
              "      <td>490.863493</td>\n",
              "      <td>2.321429</td>\n",
              "      <td>0.113393</td>\n",
              "      <td>0.101449</td>\n",
              "      <td>27232.0</td>\n",
              "      <td>1544.0</td>\n",
              "      <td>10844.0</td>\n",
              "      <td>41.625</td>\n",
              "      <td>851.00000</td>\n",
              "      <td>0.578901</td>\n",
              "      <td>...</td>\n",
              "      <td>27232.0</td>\n",
              "      <td>1544.0</td>\n",
              "      <td>10844.0</td>\n",
              "      <td>41.703125</td>\n",
              "      <td>850.59375</td>\n",
              "      <td>0.578187</td>\n",
              "      <td>2294.0</td>\n",
              "      <td>124.0</td>\n",
              "      <td>491.410874</td>\n",
              "      <td>2.323909</td>\n",
              "      <td>0.112091</td>\n",
              "      <td>0.100426</td>\n",
              "      <td>27232.0</td>\n",
              "      <td>1533.0</td>\n",
              "      <td>10747.0</td>\n",
              "      <td>41.875000</td>\n",
              "      <td>849.84375</td>\n",
              "      <td>0.576891</td>\n",
              "      <td>2294.0</td>\n",
              "      <td>108.0</td>\n",
              "      <td>492.470533</td>\n",
              "      <td>2.329365</td>\n",
              "      <td>0.110119</td>\n",
              "      <td>0.096356</td>\n",
              "      <td>27232.0</td>\n",
              "      <td>1515.0</td>\n",
              "      <td>10581.0</td>\n",
              "      <td>41.875000</td>\n",
              "      <td>849.84375</td>\n",
              "      <td>0.576891</td>\n",
              "      <td>2294.0</td>\n",
              "      <td>108.0</td>\n",
              "      <td>492.470533</td>\n",
              "      <td>2.329365</td>\n",
              "      <td>0.110119</td>\n",
              "      <td>0.096356</td>\n",
              "      <td>27232.0</td>\n",
              "      <td>1515.0</td>\n",
              "      <td>10581.0</td>\n",
              "      <td>0</td>\n",
              "    </tr>\n",
              "    <tr>\n",
              "      <th>4</th>\n",
              "      <td>KY621348</td>\n",
              "      <td>41.625</td>\n",
              "      <td>848.15625</td>\n",
              "      <td>0.579211</td>\n",
              "      <td>2270.0</td>\n",
              "      <td>126.0</td>\n",
              "      <td>488.758958</td>\n",
              "      <td>2.321429</td>\n",
              "      <td>0.113393</td>\n",
              "      <td>0.101449</td>\n",
              "      <td>27141.0</td>\n",
              "      <td>1544.0</td>\n",
              "      <td>10844.0</td>\n",
              "      <td>41.625</td>\n",
              "      <td>848.15625</td>\n",
              "      <td>0.579211</td>\n",
              "      <td>2270.0</td>\n",
              "      <td>126.0</td>\n",
              "      <td>488.758958</td>\n",
              "      <td>2.321429</td>\n",
              "      <td>0.113393</td>\n",
              "      <td>0.101449</td>\n",
              "      <td>27141.0</td>\n",
              "      <td>1544.0</td>\n",
              "      <td>10844.0</td>\n",
              "      <td>41.625</td>\n",
              "      <td>848.15625</td>\n",
              "      <td>0.579211</td>\n",
              "      <td>2270.0</td>\n",
              "      <td>126.0</td>\n",
              "      <td>488.758958</td>\n",
              "      <td>2.321429</td>\n",
              "      <td>0.113393</td>\n",
              "      <td>0.101449</td>\n",
              "      <td>27141.0</td>\n",
              "      <td>1544.0</td>\n",
              "      <td>10844.0</td>\n",
              "      <td>41.625</td>\n",
              "      <td>848.15625</td>\n",
              "      <td>0.579211</td>\n",
              "      <td>...</td>\n",
              "      <td>27141.0</td>\n",
              "      <td>1544.0</td>\n",
              "      <td>10844.0</td>\n",
              "      <td>41.625000</td>\n",
              "      <td>847.78125</td>\n",
              "      <td>0.578554</td>\n",
              "      <td>2270.0</td>\n",
              "      <td>126.0</td>\n",
              "      <td>489.258925</td>\n",
              "      <td>2.321429</td>\n",
              "      <td>0.113393</td>\n",
              "      <td>0.101449</td>\n",
              "      <td>27141.0</td>\n",
              "      <td>1544.0</td>\n",
              "      <td>10844.0</td>\n",
              "      <td>41.875000</td>\n",
              "      <td>847.03125</td>\n",
              "      <td>0.577234</td>\n",
              "      <td>2270.0</td>\n",
              "      <td>110.0</td>\n",
              "      <td>490.325815</td>\n",
              "      <td>2.329365</td>\n",
              "      <td>0.110119</td>\n",
              "      <td>0.096356</td>\n",
              "      <td>27141.0</td>\n",
              "      <td>1515.0</td>\n",
              "      <td>10581.0</td>\n",
              "      <td>41.875000</td>\n",
              "      <td>847.03125</td>\n",
              "      <td>0.577234</td>\n",
              "      <td>2270.0</td>\n",
              "      <td>110.0</td>\n",
              "      <td>490.325815</td>\n",
              "      <td>2.329365</td>\n",
              "      <td>0.110119</td>\n",
              "      <td>0.096356</td>\n",
              "      <td>27141.0</td>\n",
              "      <td>1515.0</td>\n",
              "      <td>10581.0</td>\n",
              "      <td>0</td>\n",
              "    </tr>\n",
              "  </tbody>\n",
              "</table>\n",
              "<p>5 rows × 122 columns</p>\n",
              "</div>"
            ],
            "text/plain": [
              "    nameseq    AB.1       AD.1    ASSD.1  ...    NE.10  MOT3.10  MOT4.10  label\n",
              "0  MN369046  41.625  846.00000  0.579230  ...  27072.0   1511.0  10553.0      0\n",
              "1  MN306046  41.625  852.09375  0.577884  ...  27267.0   1515.0  10581.0      0\n",
              "2  MF542265  41.625  852.12500  0.578589  ...  27268.0   1515.0  10581.0      0\n",
              "3  KY983587  41.625  851.00000  0.578901  ...  27232.0   1515.0  10581.0      0\n",
              "4  KY621348  41.625  848.15625  0.579211  ...  27141.0   1515.0  10581.0      0\n",
              "\n",
              "[5 rows x 122 columns]"
            ]
          },
          "metadata": {
            "tags": []
          },
          "execution_count": 7
        }
      ]
    },
    {
      "cell_type": "code",
      "metadata": {
        "id": "gbjVANOX0cwb",
        "outputId": "12dc1a9b-d3f3-4d29-a562-03ae954a0fbe",
        "colab": {
          "base_uri": "https://localhost:8080/"
        }
      },
      "source": [
        "rows, columns = frame.shape\n",
        "\n",
        "X = frame.iloc[:,1:(columns-1)]\n",
        "y   = frame.iloc[:, -1]\n",
        "\n",
        "labels = frame['label']\n",
        "\n",
        "train, test, train_labels, test_labels = train_test_split(X, y,\n",
        "                                                          test_size=0.3,\n",
        "                                                          random_state=12,\n",
        "                                                          stratify=labels)\n",
        "\n",
        "scaler = MinMaxScaler(feature_range=(0, 1))\n",
        "\n",
        "train = scaler.fit_transform(train)\n",
        "test =  scaler.transform(test)\n",
        "\n",
        "print(train.shape)\n",
        "print(test.shape)"
      ],
      "execution_count": 8,
      "outputs": [
        {
          "output_type": "stream",
          "text": [
            "(1201, 120)\n",
            "(516, 120)\n"
          ],
          "name": "stdout"
        }
      ]
    },
    {
      "cell_type": "code",
      "metadata": {
        "id": "7ZvIAKbR0fR9",
        "outputId": "787e3037-c6d6-4718-8062-2bc533269f8d",
        "colab": {
          "base_uri": "https://localhost:8080/"
        }
      },
      "source": [
        "model = RandomForestClassifier(random_state=63, n_estimators=100)\n",
        "\n",
        "model.fit(train, train_labels)"
      ],
      "execution_count": 9,
      "outputs": [
        {
          "output_type": "execute_result",
          "data": {
            "text/plain": [
              "RandomForestClassifier(bootstrap=True, ccp_alpha=0.0, class_weight=None,\n",
              "                       criterion='gini', max_depth=None, max_features='auto',\n",
              "                       max_leaf_nodes=None, max_samples=None,\n",
              "                       min_impurity_decrease=0.0, min_impurity_split=None,\n",
              "                       min_samples_leaf=1, min_samples_split=2,\n",
              "                       min_weight_fraction_leaf=0.0, n_estimators=100,\n",
              "                       n_jobs=None, oob_score=False, random_state=63, verbose=0,\n",
              "                       warm_start=False)"
            ]
          },
          "metadata": {
            "tags": []
          },
          "execution_count": 9
        }
      ]
    },
    {
      "cell_type": "code",
      "metadata": {
        "id": "EWaiOk9H1FAh"
      },
      "source": [
        "predicted = model.predict(test)"
      ],
      "execution_count": 10,
      "outputs": []
    },
    {
      "cell_type": "code",
      "metadata": {
        "id": "_yEoG9Gv1El_",
        "outputId": "70f58ea9-7db7-419c-dcca-59a05e327d1d",
        "colab": {
          "base_uri": "https://localhost:8080/"
        }
      },
      "source": [
        "confusion_matrix(test_labels, predicted, labels=[1, 0])"
      ],
      "execution_count": 11,
      "outputs": [
        {
          "output_type": "execute_result",
          "data": {
            "text/plain": [
              "array([[395,   0],\n",
              "       [  0, 121]])"
            ]
          },
          "metadata": {
            "tags": []
          },
          "execution_count": 11
        }
      ]
    },
    {
      "cell_type": "code",
      "metadata": {
        "id": "W5Zg-OIM3tG7",
        "outputId": "76f9decd-71f1-4921-f213-f8721264fc34",
        "colab": {
          "base_uri": "https://localhost:8080/"
        }
      },
      "source": [
        "geometric_mean_score(test_labels, predicted)"
      ],
      "execution_count": 12,
      "outputs": [
        {
          "output_type": "execute_result",
          "data": {
            "text/plain": [
              "1.0"
            ]
          },
          "metadata": {
            "tags": []
          },
          "execution_count": 12
        }
      ]
    },
    {
      "cell_type": "code",
      "metadata": {
        "id": "q2L_33GT38XT",
        "outputId": "e02a21de-16c5-4310-c461-d8a66e2b57e8",
        "colab": {
          "base_uri": "https://localhost:8080/"
        }
      },
      "source": [
        "model.feature_importances_"
      ],
      "execution_count": 13,
      "outputs": [
        {
          "output_type": "execute_result",
          "data": {
            "text/plain": [
              "array([9.05069700e-05, 0.00000000e+00, 7.19380871e-02, 4.61873440e-03,\n",
              "       1.24294611e-02, 3.34610961e-04, 0.00000000e+00, 0.00000000e+00,\n",
              "       0.00000000e+00, 1.16173569e-02, 0.00000000e+00, 0.00000000e+00,\n",
              "       0.00000000e+00, 1.25901979e-02, 1.38985038e-01, 2.50975265e-03,\n",
              "       2.53058425e-02, 0.00000000e+00, 0.00000000e+00, 0.00000000e+00,\n",
              "       0.00000000e+00, 1.14979060e-04, 0.00000000e+00, 4.52192584e-05,\n",
              "       0.00000000e+00, 0.00000000e+00, 1.04744052e-01, 1.06240601e-03,\n",
              "       3.98863519e-02, 8.16722968e-04, 0.00000000e+00, 0.00000000e+00,\n",
              "       4.31615377e-05, 6.06880413e-03, 0.00000000e+00, 0.00000000e+00,\n",
              "       0.00000000e+00, 3.36025782e-05, 7.84427076e-02, 5.56515419e-03,\n",
              "       1.94971508e-02, 1.62009844e-03, 0.00000000e+00, 0.00000000e+00,\n",
              "       0.00000000e+00, 4.64826628e-05, 0.00000000e+00, 0.00000000e+00,\n",
              "       4.46097759e-05, 6.03558149e-03, 6.16544700e-02, 1.22839986e-03,\n",
              "       1.51990200e-02, 6.06429379e-03, 0.00000000e+00, 0.00000000e+00,\n",
              "       0.00000000e+00, 0.00000000e+00, 4.58438393e-05, 0.00000000e+00,\n",
              "       0.00000000e+00, 1.30291233e-02, 4.22542764e-02, 3.69364027e-03,\n",
              "       1.47140764e-02, 5.67391800e-04, 0.00000000e+00, 0.00000000e+00,\n",
              "       0.00000000e+00, 6.43140994e-03, 0.00000000e+00, 0.00000000e+00,\n",
              "       0.00000000e+00, 6.08120316e-03, 4.03759358e-02, 1.53578114e-03,\n",
              "       8.73898559e-04, 1.77871084e-03, 0.00000000e+00, 0.00000000e+00,\n",
              "       0.00000000e+00, 0.00000000e+00, 0.00000000e+00, 0.00000000e+00,\n",
              "       0.00000000e+00, 0.00000000e+00, 4.19014603e-02, 8.24917318e-04,\n",
              "       1.50689352e-02, 2.32182281e-04, 0.00000000e+00, 0.00000000e+00,\n",
              "       0.00000000e+00, 6.23162884e-03, 0.00000000e+00, 9.02958022e-05,\n",
              "       2.53816723e-03, 0.00000000e+00, 7.06814479e-02, 1.22783325e-03,\n",
              "       2.28338818e-02, 5.77147502e-03, 4.74778621e-05, 0.00000000e+00,\n",
              "       7.91413169e-03, 0.00000000e+00, 2.72790912e-03, 3.17594171e-03,\n",
              "       0.00000000e+00, 0.00000000e+00, 3.64453790e-02, 5.26486546e-04,\n",
              "       4.45478082e-04, 1.04133901e-03, 4.84196097e-05, 6.44621884e-03,\n",
              "       0.00000000e+00, 1.12949476e-02, 0.00000000e+00, 2.46989736e-03])"
            ]
          },
          "metadata": {
            "tags": []
          },
          "execution_count": 13
        }
      ]
    },
    {
      "cell_type": "code",
      "metadata": {
        "id": "wFK9jYf238Gw",
        "outputId": "0a3027aa-9160-463f-f179-bd0bd34d9372",
        "colab": {
          "base_uri": "https://localhost:8080/"
        }
      },
      "source": [
        "indices = np.argsort(model.feature_importances_)[::-1]\n",
        "\n",
        "len(indices)"
      ],
      "execution_count": 14,
      "outputs": [
        {
          "output_type": "execute_result",
          "data": {
            "text/plain": [
              "120"
            ]
          },
          "metadata": {
            "tags": []
          },
          "execution_count": 14
        }
      ]
    },
    {
      "cell_type": "code",
      "metadata": {
        "id": "grmPBSyPt-Ia"
      },
      "source": [
        ""
      ],
      "execution_count": 14,
      "outputs": []
    },
    {
      "cell_type": "code",
      "metadata": {
        "id": "jbzWq66YpcZO",
        "outputId": "4eead504-97d8-45a3-eb2d-43744b65c795",
        "colab": {
          "base_uri": "https://localhost:8080/"
        }
      },
      "source": [
        "attributes = list(frame.columns)\n",
        "\n",
        "attributes.remove('nameseq')\n",
        "attributes.remove('label')\n",
        "\n",
        "len(attributes)"
      ],
      "execution_count": 15,
      "outputs": [
        {
          "output_type": "execute_result",
          "data": {
            "text/plain": [
              "120"
            ]
          },
          "metadata": {
            "tags": []
          },
          "execution_count": 15
        }
      ]
    },
    {
      "cell_type": "code",
      "metadata": {
        "id": "EkoQuwET5jb2",
        "outputId": "24524b91-ee60-4e56-8fd4-71ca485b3c40",
        "colab": {
          "base_uri": "https://localhost:8080/"
        }
      },
      "source": [
        "for i in range(X.shape[1]):\n",
        "  print(i+1, attributes[indices[i]], indices[i], model.feature_importances_[indices[i]])\n",
        "  if i > 10:\n",
        "    break"
      ],
      "execution_count": 16,
      "outputs": [
        {
          "output_type": "stream",
          "text": [
            "1 ASSD.2 14 0.13898503792639913\n",
            "2 ASSD.3 26 0.10474405248697842\n",
            "3 ASSD.4 38 0.07844270759650525\n",
            "4 ASSD.1 2 0.07193808710277876\n",
            "5 ASSD.9 98 0.07068144791272041\n",
            "6 ASSD.5 50 0.06165447004314242\n",
            "7 ASSD.6 62 0.04225427642689292\n",
            "8 ASSD.8 86 0.04190146032052551\n",
            "9 ASSD.7 74 0.040375935787781314\n",
            "10 MIND.3 28 0.03988635193290944\n",
            "11 ASSD.10 110 0.03644537898081623\n",
            "12 MIND.2 16 0.02530584252925618\n"
          ],
          "name": "stdout"
        }
      ]
    },
    {
      "cell_type": "code",
      "metadata": {
        "id": "1jwmKpm25_0v",
        "outputId": "dc84423a-cd71-4f0d-89fa-00ed8a770c6b",
        "colab": {
          "base_uri": "https://localhost:8080/",
          "height": 339
        }
      },
      "source": [
        "\n",
        "plt.figure()\n",
        "\n",
        "col_order = [attributes[i] for i in indices]\n",
        "feature_importance = model.feature_importances_[indices]\n",
        "\n",
        "max_indice = 10\n",
        "interval = slice(max_indice)\n",
        "\n",
        "plt.title(\"Feature importances Random Forest\")\n",
        "plt.bar(range(max_indice), feature_importance[interval], color=\"r\", align=\"center\")\n",
        "plt.xlim([-1, max_indice])\n",
        "plt.xticks(range(max_indice), col_order[interval], rotation='vertical')\n",
        "\n",
        "plt.ylabel('Relative Importance')\n",
        "plt.xlabel('Features')\n",
        "# plt.show()"
      ],
      "execution_count": 17,
      "outputs": [
        {
          "output_type": "execute_result",
          "data": {
            "text/plain": [
              "Text(0.5, 0, 'Features')"
            ]
          },
          "metadata": {
            "tags": []
          },
          "execution_count": 17
        },
        {
          "output_type": "display_data",
          "data": {
            "image/png": "[encoded data removed]",
            "text/plain": [
              "<Figure size 432x288 with 1 Axes>"
            ]
          },
          "metadata": {
            "tags": [],
            "needs_background": "light"
          }
        }
      ]
    },
    {
      "cell_type": "markdown",
      "metadata": {
        "id": "Sjbq0icL9Sjn"
      },
      "source": [
        "--- \n",
        "\n",
        "## Test with most importante features"
      ]
    },
    {
      "cell_type": "code",
      "metadata": {
        "id": "M7v8PQUX9hb3"
      },
      "source": [
        "selected_features = ['ASSD.2', 'ASSD.3', 'label']\n"
      ],
      "execution_count": 18,
      "outputs": []
    },
    {
      "cell_type": "code",
      "metadata": {
        "id": "v07SzpRS8nTU",
        "outputId": "419c13d2-93a9-4c35-d8d4-2da010079cce",
        "colab": {
          "base_uri": "https://localhost:8080/",
          "height": 238
        }
      },
      "source": [
        "print('loading data from...', file)\n",
        "\n",
        "frame = pd.read_csv(path.join(case_study, file))[selected_features]\n",
        "\n",
        "print('Shape ', frame.shape)\n",
        "\n",
        "frame.head()"
      ],
      "execution_count": 19,
      "outputs": [
        {
          "output_type": "stream",
          "text": [
            "loading data from... complex-network-k3l10.csv\n",
            "Shape  (1717, 3)\n"
          ],
          "name": "stdout"
        },
        {
          "output_type": "execute_result",
          "data": {
            "text/html": [
              "<div>\n",
              "<style scoped>\n",
              "    .dataframe tbody tr th:only-of-type {\n",
              "        vertical-align: middle;\n",
              "    }\n",
              "\n",
              "    .dataframe tbody tr th {\n",
              "        vertical-align: top;\n",
              "    }\n",
              "\n",
              "    .dataframe thead th {\n",
              "        text-align: right;\n",
              "    }\n",
              "</style>\n",
              "<table border=\"1\" class=\"dataframe\">\n",
              "  <thead>\n",
              "    <tr style=\"text-align: right;\">\n",
              "      <th></th>\n",
              "      <th>ASSD.2</th>\n",
              "      <th>ASSD.3</th>\n",
              "      <th>label</th>\n",
              "    </tr>\n",
              "  </thead>\n",
              "  <tbody>\n",
              "    <tr>\n",
              "      <th>0</th>\n",
              "      <td>0.579230</td>\n",
              "      <td>0.579230</td>\n",
              "      <td>0</td>\n",
              "    </tr>\n",
              "    <tr>\n",
              "      <th>1</th>\n",
              "      <td>0.577884</td>\n",
              "      <td>0.577884</td>\n",
              "      <td>0</td>\n",
              "    </tr>\n",
              "    <tr>\n",
              "      <th>2</th>\n",
              "      <td>0.578589</td>\n",
              "      <td>0.578589</td>\n",
              "      <td>0</td>\n",
              "    </tr>\n",
              "    <tr>\n",
              "      <th>3</th>\n",
              "      <td>0.578901</td>\n",
              "      <td>0.578901</td>\n",
              "      <td>0</td>\n",
              "    </tr>\n",
              "    <tr>\n",
              "      <th>4</th>\n",
              "      <td>0.579211</td>\n",
              "      <td>0.579211</td>\n",
              "      <td>0</td>\n",
              "    </tr>\n",
              "  </tbody>\n",
              "</table>\n",
              "</div>"
            ],
            "text/plain": [
              "     ASSD.2    ASSD.3  label\n",
              "0  0.579230  0.579230      0\n",
              "1  0.577884  0.577884      0\n",
              "2  0.578589  0.578589      0\n",
              "3  0.578901  0.578901      0\n",
              "4  0.579211  0.579211      0"
            ]
          },
          "metadata": {
            "tags": []
          },
          "execution_count": 19
        }
      ]
    },
    {
      "cell_type": "code",
      "metadata": {
        "id": "-1omq1_09odd",
        "outputId": "04227c4c-6d2d-4c5c-c45d-7eee3580f06e",
        "colab": {
          "base_uri": "https://localhost:8080/",
          "height": 391
        }
      },
      "source": [
        "sns.pairplot(frame, hue='label')"
      ],
      "execution_count": 20,
      "outputs": [
        {
          "output_type": "execute_result",
          "data": {
            "text/plain": [
              "<seaborn.axisgrid.PairGrid at 0x7f3305c4e5f8>"
            ]
          },
          "metadata": {
            "tags": []
          },
          "execution_count": 20
        },
        {
          "output_type": "display_data",
          "data": {
            "image/png": "[encoded data removed]",
            "text/plain": [
              "<Figure size 402.375x360 with 6 Axes>"
            ]
          },
          "metadata": {
            "tags": [],
            "needs_background": "light"
          }
        }
      ]
    },
    {
      "cell_type": "code",
      "metadata": {
        "id": "PneYSN2hsE7a",
        "outputId": "d3cd89e5-8982-43ee-a26b-48bebddba256",
        "colab": {
          "base_uri": "https://localhost:8080/",
          "height": 458
        }
      },
      "source": [
        "g = sns.JointGrid(data=frame, x=selected_features[0], y=selected_features[1], hue='label')\n",
        "\n",
        "g.plot_joint(sns.scatterplot)\n",
        "g.plot_marginals(sns.kdeplot)"
      ],
      "execution_count": 21,
      "outputs": [
        {
          "output_type": "execute_result",
          "data": {
            "text/plain": [
              "<seaborn.axisgrid.JointGrid at 0x7f33023256d8>"
            ]
          },
          "metadata": {
            "tags": []
          },
          "execution_count": 21
        },
        {
          "output_type": "display_data",
          "data": {
            "image/png": "[encoded data removed]",
            "text/plain": [
              "<Figure size 432x432 with 3 Axes>"
            ]
          },
          "metadata": {
            "tags": [],
            "needs_background": "light"
          }
        }
      ]
    },
    {
      "cell_type": "code",
      "metadata": {
        "id": "SKrT27vK9fhD",
        "outputId": "aec6f94d-cf3a-4e17-9fe4-e6846c9dde4d",
        "colab": {
          "base_uri": "https://localhost:8080/"
        }
      },
      "source": [
        "rows, columns = frame.shape\n",
        "\n",
        "X = frame.drop(labels=['label'], axis=1)\n",
        "y   = frame['label']\n",
        "\n",
        "labels = frame['label']\n",
        "\n",
        "train, test, train_labels, test_labels = train_test_split(X, y,\n",
        "                                                          test_size=0.3,\n",
        "                                                          random_state=12,\n",
        "                                                          stratify=labels)\n",
        "\n",
        "scaler = MinMaxScaler(feature_range=(0, 1))\n",
        "\n",
        "train = scaler.fit_transform(train)\n",
        "test =  scaler.transform(test)\n",
        "\n",
        "print(train.shape)\n",
        "print(test.shape)"
      ],
      "execution_count": 22,
      "outputs": [
        {
          "output_type": "stream",
          "text": [
            "(1201, 2)\n",
            "(516, 2)\n"
          ],
          "name": "stdout"
        }
      ]
    },
    {
      "cell_type": "code",
      "metadata": {
        "id": "GqVtKWxx-jYG",
        "outputId": "f3f5c38b-e0da-4bf1-b064-6bf6049e01a3",
        "colab": {
          "base_uri": "https://localhost:8080/",
          "height": 204
        }
      },
      "source": [
        "X.head()"
      ],
      "execution_count": 23,
      "outputs": [
        {
          "output_type": "execute_result",
          "data": {
            "text/html": [
              "<div>\n",
              "<style scoped>\n",
              "    .dataframe tbody tr th:only-of-type {\n",
              "        vertical-align: middle;\n",
              "    }\n",
              "\n",
              "    .dataframe tbody tr th {\n",
              "        vertical-align: top;\n",
              "    }\n",
              "\n",
              "    .dataframe thead th {\n",
              "        text-align: right;\n",
              "    }\n",
              "</style>\n",
              "<table border=\"1\" class=\"dataframe\">\n",
              "  <thead>\n",
              "    <tr style=\"text-align: right;\">\n",
              "      <th></th>\n",
              "      <th>ASSD.2</th>\n",
              "      <th>ASSD.3</th>\n",
              "    </tr>\n",
              "  </thead>\n",
              "  <tbody>\n",
              "    <tr>\n",
              "      <th>0</th>\n",
              "      <td>0.579230</td>\n",
              "      <td>0.579230</td>\n",
              "    </tr>\n",
              "    <tr>\n",
              "      <th>1</th>\n",
              "      <td>0.577884</td>\n",
              "      <td>0.577884</td>\n",
              "    </tr>\n",
              "    <tr>\n",
              "      <th>2</th>\n",
              "      <td>0.578589</td>\n",
              "      <td>0.578589</td>\n",
              "    </tr>\n",
              "    <tr>\n",
              "      <th>3</th>\n",
              "      <td>0.578901</td>\n",
              "      <td>0.578901</td>\n",
              "    </tr>\n",
              "    <tr>\n",
              "      <th>4</th>\n",
              "      <td>0.579211</td>\n",
              "      <td>0.579211</td>\n",
              "    </tr>\n",
              "  </tbody>\n",
              "</table>\n",
              "</div>"
            ],
            "text/plain": [
              "     ASSD.2    ASSD.3\n",
              "0  0.579230  0.579230\n",
              "1  0.577884  0.577884\n",
              "2  0.578589  0.578589\n",
              "3  0.578901  0.578901\n",
              "4  0.579211  0.579211"
            ]
          },
          "metadata": {
            "tags": []
          },
          "execution_count": 23
        }
      ]
    },
    {
      "cell_type": "code",
      "metadata": {
        "id": "nfNkwdBt-oi0"
      },
      "source": [
        "model = RandomForestClassifier(random_state=63, n_estimators=100)\n",
        "\n",
        "model.fit(train, train_labels)\n",
        "\n",
        "predicted = model.predict(test)"
      ],
      "execution_count": 24,
      "outputs": []
    },
    {
      "cell_type": "code",
      "metadata": {
        "id": "AvLnqhJa_H4l",
        "outputId": "611af285-9899-40b4-944c-5ef5f222ee5a",
        "colab": {
          "base_uri": "https://localhost:8080/"
        }
      },
      "source": [
        "confusion_matrix(test_labels, predicted, labels=[0, 1])"
      ],
      "execution_count": 25,
      "outputs": [
        {
          "output_type": "execute_result",
          "data": {
            "text/plain": [
              "array([[121,   0],\n",
              "       [  0, 395]])"
            ]
          },
          "metadata": {
            "tags": []
          },
          "execution_count": 25
        }
      ]
    },
    {
      "cell_type": "code",
      "metadata": {
        "id": "NSkz0cQF_Lgn",
        "outputId": "9f36c28c-a09d-4941-9cf5-86c172b89f35",
        "colab": {
          "base_uri": "https://localhost:8080/"
        }
      },
      "source": [
        "geometric_mean_score(test_labels, predicted)"
      ],
      "execution_count": 26,
      "outputs": [
        {
          "output_type": "execute_result",
          "data": {
            "text/plain": [
              "1.0"
            ]
          },
          "metadata": {
            "tags": []
          },
          "execution_count": 26
        }
      ]
    },
    {
      "cell_type": "code",
      "metadata": {
        "id": "lBq-8EA7_Pjy"
      },
      "source": [
        ""
      ],
      "execution_count": 26,
      "outputs": []
    }
  ]
}