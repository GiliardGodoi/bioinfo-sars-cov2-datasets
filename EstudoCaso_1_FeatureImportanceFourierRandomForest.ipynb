{
  "nbformat": 4,
  "nbformat_minor": 0,
  "metadata": {
    "colab": {
      "name": "EstudoCaso_1_FeatureImportanceFourierRandomForest.ipynb",
      "provenance": [],
      "collapsed_sections": [],
      "toc_visible": true,
      "mount_file_id": "1kud_Jnhkgx7Lp4qvDXlZ_GKdC3CSEmR1",
      "authorship_tag": "ABX9TyN38x8fjz4ox3JjsiAQ2NjJ",
      "include_colab_link": true
    },
    "kernelspec": {
      "name": "python3",
      "display_name": "Python 3"
    }
  },
  "cells": [
    {
      "cell_type": "markdown",
      "metadata": {
        "id": "view-in-github",
        "colab_type": "text"
      },
      "source": [
        "<a href=\"https://colab.research.google.com/github/GiliardGodoi/bioinfo-sars-cov2-datasets/blob/main/EstudoCaso_1_FeatureImportanceFourierRandomForest.ipynb\" target=\"_parent\"><img src=\"https://colab.research.google.com/assets/colab-badge.svg\" alt=\"Open In Colab\"/></a>"
      ]
    },
    {
      "cell_type": "code",
      "metadata": {
        "id": "GYt60va-zFWP",
        "outputId": "57e97a11-d184-4786-b610-96b4d6cfa23e",
        "colab": {
          "base_uri": "https://localhost:8080/"
        }
      },
      "source": [
        "from sklearn.ensemble import RandomForestClassifier\n",
        "\n",
        "from sklearn.pipeline import Pipeline\n",
        "\n",
        "from sklearn.preprocessing import MinMaxScaler\n",
        "from sklearn.preprocessing import Normalizer\n",
        "from sklearn.preprocessing import StandardScaler\n",
        "\n",
        "from sklearn.model_selection import cross_validate\n",
        "from sklearn.model_selection import KFold\n",
        "from sklearn.model_selection import train_test_split\n",
        "\n",
        "from sklearn.metrics import accuracy_score\n",
        "from sklearn.metrics import balanced_accuracy_score\n",
        "from sklearn.metrics import cohen_kappa_score\n",
        "from sklearn.metrics import confusion_matrix\n",
        "from sklearn.metrics import f1_score\n",
        "from sklearn.metrics import hamming_loss\n",
        "from sklearn.metrics import jaccard_score\n",
        "from sklearn.metrics import make_scorer\n",
        "from sklearn.metrics import matthews_corrcoef\n",
        "from sklearn.metrics import precision_score\n",
        "from sklearn.metrics import roc_auc_score\n",
        "from sklearn.metrics import recall_score\n",
        "from imblearn.metrics import geometric_mean_score"
      ],
      "execution_count": null,
      "outputs": [
        {
          "output_type": "stream",
          "text": [
            "/usr/local/lib/python3.6/dist-packages/sklearn/externals/six.py:31: FutureWarning: The module is deprecated in version 0.21 and will be removed in version 0.23 since we've dropped support for Python 2.7. Please rely on the official version of six (https://pypi.org/project/six/).\n",
            "  \"(https://pypi.org/project/six/).\", FutureWarning)\n",
            "/usr/local/lib/python3.6/dist-packages/sklearn/utils/deprecation.py:144: FutureWarning: The sklearn.neighbors.base module is  deprecated in version 0.22 and will be removed in version 0.24. The corresponding classes / functions should instead be imported from sklearn.neighbors. Anything that cannot be imported from sklearn.neighbors is now part of the private API.\n",
            "  warnings.warn(message, FutureWarning)\n",
            "/usr/local/lib/python3.6/dist-packages/sklearn/utils/deprecation.py:144: FutureWarning: The sklearn.metrics.classification module is  deprecated in version 0.22 and will be removed in version 0.24. The corresponding classes / functions should instead be imported from sklearn.metrics. Anything that cannot be imported from sklearn.metrics is now part of the private API.\n",
            "  warnings.warn(message, FutureWarning)\n"
          ],
          "name": "stderr"
        }
      ]
    },
    {
      "cell_type": "code",
      "metadata": {
        "id": "tCZac7cUz-7B"
      },
      "source": [
        "# help(geometric_mean_score)"
      ],
      "execution_count": null,
      "outputs": []
    },
    {
      "cell_type": "code",
      "metadata": {
        "id": "8u7YkbTBzPGh"
      },
      "source": [
        "import os\n",
        "from os import path\n",
        "\n",
        "import pandas as pd\n",
        "import numpy as np"
      ],
      "execution_count": null,
      "outputs": []
    },
    {
      "cell_type": "code",
      "metadata": {
        "id": "1nG51Pzt1QEK"
      },
      "source": [
        "from matplotlib import pyplot as plt \n",
        "import seaborn as sns"
      ],
      "execution_count": null,
      "outputs": []
    },
    {
      "cell_type": "code",
      "metadata": {
        "id": "cuhqKn94zPof",
        "outputId": "5dd540e6-ee3a-4d52-de51-25b5f0c91ead",
        "colab": {
          "base_uri": "https://localhost:8080/"
        }
      },
      "source": [
        "base_folder = \"/content/drive/Shared drives/PPGI_GILIARD/FeatureExtraction_SARS-CoV-2\"\n",
        "features_folder = \"/content/drive/Shared drives/PPGI_GILIARD/FeatureExtraction_SARS-CoV-2/data/processed\"\n",
        "\n",
        "assert path.exists(features_folder)\n",
        "\n",
        "folders = os.listdir(features_folder)\n",
        "\n",
        "folders"
      ],
      "execution_count": null,
      "outputs": [
        {
          "output_type": "execute_result",
          "data": {
            "text/plain": [
              "['1-covid', '2-other-viruses']"
            ]
          },
          "metadata": {
            "tags": []
          },
          "execution_count": 5
        }
      ]
    },
    {
      "cell_type": "code",
      "metadata": {
        "id": "KU-mQFKxzZTq",
        "outputId": "86e740b2-ad76-438e-b0a6-d41eba5a0db9",
        "colab": {
          "base_uri": "https://localhost:8080/"
        }
      },
      "source": [
        "case_study = path.join(features_folder, folders[0])\n",
        "\n",
        "print(case_study,'\\n')\n",
        "\n",
        "files = os.listdir(case_study)\n",
        "\n",
        "files"
      ],
      "execution_count": null,
      "outputs": [
        {
          "output_type": "stream",
          "text": [
            "/content/drive/Shared drives/PPGI_GILIARD/FeatureExtraction_SARS-CoV-2/data/processed/1-covid \n",
            "\n"
          ],
          "name": "stdout"
        },
        {
          "output_type": "execute_result",
          "data": {
            "text/plain": [
              "['chaos-game-theory_r4.csv',\n",
              " 'complex-network-k3l10.csv',\n",
              " 'fourier-class-r5.csv',\n",
              " 'shannon-entropy-k12.csv']"
            ]
          },
          "metadata": {
            "tags": []
          },
          "execution_count": 6
        }
      ]
    },
    {
      "cell_type": "code",
      "metadata": {
        "id": "uAvCs-luzZ7F",
        "outputId": "eea067db-7a86-4798-b69c-bf24ed8d19d7",
        "colab": {
          "base_uri": "https://localhost:8080/",
          "height": 258
        }
      },
      "source": [
        "file = files[2]\n",
        "\n",
        "print('loading data from...', file)\n",
        "\n",
        "frame = pd.read_csv(path.join(case_study, file))\n",
        "\n",
        "print('Shape ', frame.shape)\n",
        "\n",
        "frame.head()"
      ],
      "execution_count": null,
      "outputs": [
        {
          "output_type": "stream",
          "text": [
            "loading data from... fourier-class-r5.csv\n",
            "Shape  (1717, 21)\n"
          ],
          "name": "stdout"
        },
        {
          "output_type": "execute_result",
          "data": {
            "text/html": [
              "<div>\n",
              "<style scoped>\n",
              "    .dataframe tbody tr th:only-of-type {\n",
              "        vertical-align: middle;\n",
              "    }\n",
              "\n",
              "    .dataframe tbody tr th {\n",
              "        vertical-align: top;\n",
              "    }\n",
              "\n",
              "    .dataframe thead th {\n",
              "        text-align: right;\n",
              "    }\n",
              "</style>\n",
              "<table border=\"1\" class=\"dataframe\">\n",
              "  <thead>\n",
              "    <tr style=\"text-align: right;\">\n",
              "      <th></th>\n",
              "      <th>nameseq</th>\n",
              "      <th>average</th>\n",
              "      <th>median</th>\n",
              "      <th>maximum</th>\n",
              "      <th>minimum</th>\n",
              "      <th>peak</th>\n",
              "      <th>none_levated_peak</th>\n",
              "      <th>sample_standard_deviation</th>\n",
              "      <th>population_standard_deviation</th>\n",
              "      <th>percentile15</th>\n",
              "      <th>percentile25</th>\n",
              "      <th>percentile50</th>\n",
              "      <th>percentile75</th>\n",
              "      <th>amplitude</th>\n",
              "      <th>variance</th>\n",
              "      <th>interquartile_range</th>\n",
              "      <th>semi_interquartile_range</th>\n",
              "      <th>coefficient_of_variation</th>\n",
              "      <th>skewness</th>\n",
              "      <th>kurtosis</th>\n",
              "      <th>label</th>\n",
              "    </tr>\n",
              "  </thead>\n",
              "  <tbody>\n",
              "    <tr>\n",
              "      <th>0</th>\n",
              "      <td>MN369046</td>\n",
              "      <td>402.836037</td>\n",
              "      <td>7.782876</td>\n",
              "      <td>1.058454e+07</td>\n",
              "      <td>0.000493</td>\n",
              "      <td>22.403656</td>\n",
              "      <td>2885.711246</td>\n",
              "      <td>64324.948424</td>\n",
              "      <td>64326.136360</td>\n",
              "      <td>1.819023</td>\n",
              "      <td>3.259556</td>\n",
              "      <td>7.782876</td>\n",
              "      <td>15.905053</td>\n",
              "      <td>1.058454e+07</td>\n",
              "      <td>4.137852e+09</td>\n",
              "      <td>12.645497</td>\n",
              "      <td>6.322749</td>\n",
              "      <td>159.680223</td>\n",
              "      <td>0.018425</td>\n",
              "      <td>0.249725</td>\n",
              "      <td>0</td>\n",
              "    </tr>\n",
              "    <tr>\n",
              "      <th>1</th>\n",
              "      <td>MN306046</td>\n",
              "      <td>405.718097</td>\n",
              "      <td>7.840941</td>\n",
              "      <td>1.073707e+07</td>\n",
              "      <td>0.000180</td>\n",
              "      <td>22.404719</td>\n",
              "      <td>2897.257602</td>\n",
              "      <td>65018.177312</td>\n",
              "      <td>65019.369464</td>\n",
              "      <td>1.825524</td>\n",
              "      <td>3.240594</td>\n",
              "      <td>7.840941</td>\n",
              "      <td>15.987490</td>\n",
              "      <td>1.073707e+07</td>\n",
              "      <td>4.227518e+09</td>\n",
              "      <td>12.746896</td>\n",
              "      <td>6.373448</td>\n",
              "      <td>160.254565</td>\n",
              "      <td>0.018358</td>\n",
              "      <td>0.249626</td>\n",
              "      <td>0</td>\n",
              "    </tr>\n",
              "    <tr>\n",
              "      <th>2</th>\n",
              "      <td>MF542265</td>\n",
              "      <td>405.780337</td>\n",
              "      <td>7.901171</td>\n",
              "      <td>1.073937e+07</td>\n",
              "      <td>0.000624</td>\n",
              "      <td>22.402104</td>\n",
              "      <td>2894.229894</td>\n",
              "      <td>65030.914942</td>\n",
              "      <td>65032.107284</td>\n",
              "      <td>1.851574</td>\n",
              "      <td>3.312756</td>\n",
              "      <td>7.901171</td>\n",
              "      <td>16.066887</td>\n",
              "      <td>1.073937e+07</td>\n",
              "      <td>4.229175e+09</td>\n",
              "      <td>12.754131</td>\n",
              "      <td>6.377066</td>\n",
              "      <td>160.261376</td>\n",
              "      <td>0.018355</td>\n",
              "      <td>0.251174</td>\n",
              "      <td>0</td>\n",
              "    </tr>\n",
              "    <tr>\n",
              "      <th>3</th>\n",
              "      <td>KY983587</td>\n",
              "      <td>405.297160</td>\n",
              "      <td>7.788980</td>\n",
              "      <td>1.071249e+07</td>\n",
              "      <td>0.001106</td>\n",
              "      <td>22.399203</td>\n",
              "      <td>2900.071792</td>\n",
              "      <td>64911.033081</td>\n",
              "      <td>64912.224798</td>\n",
              "      <td>1.794982</td>\n",
              "      <td>3.275689</td>\n",
              "      <td>7.788980</td>\n",
              "      <td>16.123806</td>\n",
              "      <td>1.071249e+07</td>\n",
              "      <td>4.213597e+09</td>\n",
              "      <td>12.848117</td>\n",
              "      <td>6.424059</td>\n",
              "      <td>160.156644</td>\n",
              "      <td>0.018372</td>\n",
              "      <td>0.250494</td>\n",
              "      <td>0</td>\n",
              "    </tr>\n",
              "    <tr>\n",
              "      <th>4</th>\n",
              "      <td>KY621348</td>\n",
              "      <td>403.955278</td>\n",
              "      <td>7.933557</td>\n",
              "      <td>1.064136e+07</td>\n",
              "      <td>0.000365</td>\n",
              "      <td>22.398519</td>\n",
              "      <td>2891.340716</td>\n",
              "      <td>64588.011362</td>\n",
              "      <td>64589.201124</td>\n",
              "      <td>1.838605</td>\n",
              "      <td>3.274364</td>\n",
              "      <td>7.933557</td>\n",
              "      <td>15.990174</td>\n",
              "      <td>1.064136e+07</td>\n",
              "      <td>4.171765e+09</td>\n",
              "      <td>12.715810</td>\n",
              "      <td>6.357905</td>\n",
              "      <td>159.889015</td>\n",
              "      <td>0.018395</td>\n",
              "      <td>0.251254</td>\n",
              "      <td>0</td>\n",
              "    </tr>\n",
              "  </tbody>\n",
              "</table>\n",
              "</div>"
            ],
            "text/plain": [
              "    nameseq     average    median  ...  skewness  kurtosis  label\n",
              "0  MN369046  402.836037  7.782876  ...  0.018425  0.249725      0\n",
              "1  MN306046  405.718097  7.840941  ...  0.018358  0.249626      0\n",
              "2  MF542265  405.780337  7.901171  ...  0.018355  0.251174      0\n",
              "3  KY983587  405.297160  7.788980  ...  0.018372  0.250494      0\n",
              "4  KY621348  403.955278  7.933557  ...  0.018395  0.251254      0\n",
              "\n",
              "[5 rows x 21 columns]"
            ]
          },
          "metadata": {
            "tags": []
          },
          "execution_count": 7
        }
      ]
    },
    {
      "cell_type": "code",
      "metadata": {
        "id": "gbjVANOX0cwb",
        "outputId": "568115a5-3e83-41ea-c855-442c620c76fa",
        "colab": {
          "base_uri": "https://localhost:8080/"
        }
      },
      "source": [
        "rows, columns = frame.shape\n",
        "\n",
        "X = frame.iloc[:,1:(columns-1)]\n",
        "y   = frame.iloc[:, -1]\n",
        "\n",
        "labels = frame['label']\n",
        "\n",
        "train, test, train_labels, test_labels = train_test_split(X, y,\n",
        "                                                          test_size=0.3,\n",
        "                                                          random_state=12,\n",
        "                                                          stratify=labels)\n",
        "\n",
        "scaler = MinMaxScaler(feature_range=(0, 1))\n",
        "\n",
        "train = scaler.fit_transform(train)\n",
        "test =  scaler.transform(test)\n",
        "\n",
        "print(train.shape)\n",
        "print(test.shape)"
      ],
      "execution_count": null,
      "outputs": [
        {
          "output_type": "stream",
          "text": [
            "(1201, 19)\n",
            "(516, 19)\n"
          ],
          "name": "stdout"
        }
      ]
    },
    {
      "cell_type": "code",
      "metadata": {
        "id": "7ZvIAKbR0fR9",
        "outputId": "7fb10d31-470e-4c8a-fb6f-40d2bbe207b1",
        "colab": {
          "base_uri": "https://localhost:8080/"
        }
      },
      "source": [
        "model = RandomForestClassifier(random_state=63, n_estimators=100)\n",
        "\n",
        "model.fit(train, train_labels)"
      ],
      "execution_count": null,
      "outputs": [
        {
          "output_type": "execute_result",
          "data": {
            "text/plain": [
              "RandomForestClassifier(bootstrap=True, ccp_alpha=0.0, class_weight=None,\n",
              "                       criterion='gini', max_depth=None, max_features='auto',\n",
              "                       max_leaf_nodes=None, max_samples=None,\n",
              "                       min_impurity_decrease=0.0, min_impurity_split=None,\n",
              "                       min_samples_leaf=1, min_samples_split=2,\n",
              "                       min_weight_fraction_leaf=0.0, n_estimators=100,\n",
              "                       n_jobs=None, oob_score=False, random_state=63, verbose=0,\n",
              "                       warm_start=False)"
            ]
          },
          "metadata": {
            "tags": []
          },
          "execution_count": 9
        }
      ]
    },
    {
      "cell_type": "code",
      "metadata": {
        "id": "EWaiOk9H1FAh"
      },
      "source": [
        "predicted = model.predict(test)"
      ],
      "execution_count": null,
      "outputs": []
    },
    {
      "cell_type": "code",
      "metadata": {
        "id": "_yEoG9Gv1El_",
        "outputId": "b6d83aa8-1e16-45c4-8dff-b3c1e7ae692e",
        "colab": {
          "base_uri": "https://localhost:8080/"
        }
      },
      "source": [
        "confusion_matrix(test_labels, predicted, labels=[1, 0])"
      ],
      "execution_count": null,
      "outputs": [
        {
          "output_type": "execute_result",
          "data": {
            "text/plain": [
              "array([[395,   0],\n",
              "       [  0, 121]])"
            ]
          },
          "metadata": {
            "tags": []
          },
          "execution_count": 11
        }
      ]
    },
    {
      "cell_type": "code",
      "metadata": {
        "id": "W5Zg-OIM3tG7",
        "outputId": "df503032-83ca-4cf2-f81a-419a45c48ea3",
        "colab": {
          "base_uri": "https://localhost:8080/"
        }
      },
      "source": [
        "geometric_mean_score(test_labels, predicted)"
      ],
      "execution_count": null,
      "outputs": [
        {
          "output_type": "execute_result",
          "data": {
            "text/plain": [
              "1.0"
            ]
          },
          "metadata": {
            "tags": []
          },
          "execution_count": 12
        }
      ]
    },
    {
      "cell_type": "code",
      "metadata": {
        "id": "q2L_33GT38XT",
        "outputId": "f75a7b1d-b019-4e45-8fa5-133bfe2e4bdf",
        "colab": {
          "base_uri": "https://localhost:8080/"
        }
      },
      "source": [
        "model.feature_importances_"
      ],
      "execution_count": null,
      "outputs": [
        {
          "output_type": "execute_result",
          "data": {
            "text/plain": [
              "array([9.27898303e-03, 6.91036758e-02, 7.94369311e-03, 1.80766188e-04,\n",
              "       1.52250897e-01, 1.94468970e-01, 4.71411575e-03, 1.43769520e-02,\n",
              "       3.07888882e-02, 7.13706144e-02, 9.37989030e-02, 1.37991552e-01,\n",
              "       2.57688558e-02, 1.56234794e-02, 3.21505430e-02, 9.71822867e-02,\n",
              "       2.53732543e-02, 1.76335703e-02, 0.00000000e+00])"
            ]
          },
          "metadata": {
            "tags": []
          },
          "execution_count": 13
        }
      ]
    },
    {
      "cell_type": "code",
      "metadata": {
        "id": "wFK9jYf238Gw",
        "outputId": "2e2163fb-5d32-421d-df15-b1e16ef633ca",
        "colab": {
          "base_uri": "https://localhost:8080/"
        }
      },
      "source": [
        "indices = np.argsort(model.feature_importances_)[::-1]\n",
        "\n",
        "len(indices)"
      ],
      "execution_count": null,
      "outputs": [
        {
          "output_type": "execute_result",
          "data": {
            "text/plain": [
              "19"
            ]
          },
          "metadata": {
            "tags": []
          },
          "execution_count": 14
        }
      ]
    },
    {
      "cell_type": "code",
      "metadata": {
        "id": "grmPBSyPt-Ia"
      },
      "source": [
        ""
      ],
      "execution_count": null,
      "outputs": []
    },
    {
      "cell_type": "code",
      "metadata": {
        "id": "jbzWq66YpcZO",
        "outputId": "ac724b52-3c83-458a-8203-8493f69a4271",
        "colab": {
          "base_uri": "https://localhost:8080/"
        }
      },
      "source": [
        "attributes = list(frame.columns)\n",
        "\n",
        "attributes.remove('nameseq')\n",
        "attributes.remove('label')\n",
        "\n",
        "len(attributes)"
      ],
      "execution_count": null,
      "outputs": [
        {
          "output_type": "execute_result",
          "data": {
            "text/plain": [
              "19"
            ]
          },
          "metadata": {
            "tags": []
          },
          "execution_count": 15
        }
      ]
    },
    {
      "cell_type": "code",
      "metadata": {
        "id": "EkoQuwET5jb2",
        "outputId": "37147d9f-39b2-4663-aef6-7641baf94d4e",
        "colab": {
          "base_uri": "https://localhost:8080/"
        }
      },
      "source": [
        "for i in range(X.shape[1]):\n",
        "  print(i+1, attributes[indices[i]], indices[i], model.feature_importances_[indices[i]])\n",
        "  if i > 10:\n",
        "    break"
      ],
      "execution_count": null,
      "outputs": [
        {
          "output_type": "stream",
          "text": [
            "1 none_levated_peak 5 0.19446896958823426\n",
            "2 peak 4 0.15225089740417883\n",
            "3 percentile75 11 0.13799155187884418\n",
            "4 semi_interquartile_range 15 0.09718228671613179\n",
            "5 percentile50 10 0.09379890295352565\n",
            "6 percentile25 9 0.07137061442156807\n",
            "7 median 1 0.06910367581910902\n",
            "8 interquartile_range 14 0.03215054300270159\n",
            "9 percentile15 8 0.030788888184141605\n",
            "10 amplitude 12 0.025768855849077246\n",
            "11 coefficient_of_variation 16 0.025373254292628652\n",
            "12 skewness 17 0.01763357034734559\n"
          ],
          "name": "stdout"
        }
      ]
    },
    {
      "cell_type": "code",
      "metadata": {
        "id": "1jwmKpm25_0v",
        "outputId": "a049ce38-2220-4b33-abd2-04e6d3a0e75d",
        "colab": {
          "base_uri": "https://localhost:8080/",
          "height": 427
        }
      },
      "source": [
        "\n",
        "plt.figure()\n",
        "\n",
        "col_order = [attributes[i] for i in indices]\n",
        "feature_importance = model.feature_importances_[indices]\n",
        "\n",
        "max_indice = 10\n",
        "interval = slice(max_indice)\n",
        "\n",
        "plt.title(\"Feature importances Random Forest\")\n",
        "plt.bar(range(max_indice), feature_importance[interval], color=\"r\", align=\"center\")\n",
        "plt.xlim([-1, max_indice])\n",
        "plt.xticks(range(max_indice), col_order[interval], rotation='vertical')\n",
        "\n",
        "plt.ylabel('Relative Importance')\n",
        "plt.xlabel('Features')\n",
        "# plt.show()"
      ],
      "execution_count": null,
      "outputs": [
        {
          "output_type": "execute_result",
          "data": {
            "text/plain": [
              "Text(0.5, 0, 'Features')"
            ]
          },
          "metadata": {
            "tags": []
          },
          "execution_count": 17
        },
        {
          "output_type": "display_data",
          "data": {
            "image/png": "[encoded data removed]",
            "text/plain": [
              "<Figure size 432x288 with 1 Axes>"
            ]
          },
          "metadata": {
            "tags": [],
            "needs_background": "light"
          }
        }
      ]
    },
    {
      "cell_type": "markdown",
      "metadata": {
        "id": "Sjbq0icL9Sjn"
      },
      "source": [
        "--- \n",
        "\n",
        "## Test with most importante features"
      ]
    },
    {
      "cell_type": "code",
      "metadata": {
        "id": "M7v8PQUX9hb3"
      },
      "source": [
        "selected_features = ['none_levated_peak', 'peak', 'label']\n"
      ],
      "execution_count": null,
      "outputs": []
    },
    {
      "cell_type": "code",
      "metadata": {
        "id": "v07SzpRS8nTU",
        "outputId": "f6c1bdae-a3de-4a66-d838-9dd95f942622",
        "colab": {
          "base_uri": "https://localhost:8080/",
          "height": 238
        }
      },
      "source": [
        "print('loading data from...', file)\n",
        "\n",
        "frame = pd.read_csv(path.join(case_study, file))[selected_features]\n",
        "\n",
        "print('Shape ', frame.shape)\n",
        "\n",
        "frame.head()"
      ],
      "execution_count": null,
      "outputs": [
        {
          "output_type": "stream",
          "text": [
            "loading data from... fourier-class-r5.csv\n",
            "Shape  (1717, 3)\n"
          ],
          "name": "stdout"
        },
        {
          "output_type": "execute_result",
          "data": {
            "text/html": [
              "<div>\n",
              "<style scoped>\n",
              "    .dataframe tbody tr th:only-of-type {\n",
              "        vertical-align: middle;\n",
              "    }\n",
              "\n",
              "    .dataframe tbody tr th {\n",
              "        vertical-align: top;\n",
              "    }\n",
              "\n",
              "    .dataframe thead th {\n",
              "        text-align: right;\n",
              "    }\n",
              "</style>\n",
              "<table border=\"1\" class=\"dataframe\">\n",
              "  <thead>\n",
              "    <tr style=\"text-align: right;\">\n",
              "      <th></th>\n",
              "      <th>none_levated_peak</th>\n",
              "      <th>peak</th>\n",
              "      <th>label</th>\n",
              "    </tr>\n",
              "  </thead>\n",
              "  <tbody>\n",
              "    <tr>\n",
              "      <th>0</th>\n",
              "      <td>2885.711246</td>\n",
              "      <td>22.403656</td>\n",
              "      <td>0</td>\n",
              "    </tr>\n",
              "    <tr>\n",
              "      <th>1</th>\n",
              "      <td>2897.257602</td>\n",
              "      <td>22.404719</td>\n",
              "      <td>0</td>\n",
              "    </tr>\n",
              "    <tr>\n",
              "      <th>2</th>\n",
              "      <td>2894.229894</td>\n",
              "      <td>22.402104</td>\n",
              "      <td>0</td>\n",
              "    </tr>\n",
              "    <tr>\n",
              "      <th>3</th>\n",
              "      <td>2900.071792</td>\n",
              "      <td>22.399203</td>\n",
              "      <td>0</td>\n",
              "    </tr>\n",
              "    <tr>\n",
              "      <th>4</th>\n",
              "      <td>2891.340716</td>\n",
              "      <td>22.398519</td>\n",
              "      <td>0</td>\n",
              "    </tr>\n",
              "  </tbody>\n",
              "</table>\n",
              "</div>"
            ],
            "text/plain": [
              "   none_levated_peak       peak  label\n",
              "0        2885.711246  22.403656      0\n",
              "1        2897.257602  22.404719      0\n",
              "2        2894.229894  22.402104      0\n",
              "3        2900.071792  22.399203      0\n",
              "4        2891.340716  22.398519      0"
            ]
          },
          "metadata": {
            "tags": []
          },
          "execution_count": 42
        }
      ]
    },
    {
      "cell_type": "code",
      "metadata": {
        "id": "-1omq1_09odd",
        "outputId": "e524b3da-8299-44ee-9122-12fa69f7661b",
        "colab": {
          "base_uri": "https://localhost:8080/",
          "height": 391
        }
      },
      "source": [
        "sns.pairplot(frame, hue='label')"
      ],
      "execution_count": null,
      "outputs": [
        {
          "output_type": "execute_result",
          "data": {
            "text/plain": [
              "<seaborn.axisgrid.PairGrid at 0x7fd43c583cf8>"
            ]
          },
          "metadata": {
            "tags": []
          },
          "execution_count": 43
        },
        {
          "output_type": "display_data",
          "data": {
            "image/png": "[encoded data removed]",
            "text/plain": [
              "<Figure size 402.375x360 with 6 Axes>"
            ]
          },
          "metadata": {
            "tags": [],
            "needs_background": "light"
          }
        }
      ]
    },
    {
      "cell_type": "code",
      "metadata": {
        "id": "PneYSN2hsE7a",
        "outputId": "8454b2f6-fb9c-44f4-87ff-27cb6b888d26",
        "colab": {
          "base_uri": "https://localhost:8080/",
          "height": 458
        }
      },
      "source": [
        "g = sns.JointGrid(data=frame, x=selected_features[0], y=selected_features[1], hue='label')\n",
        "\n",
        "g.plot_joint(sns.scatterplot)\n",
        "g.plot_marginals(sns.kdeplot)"
      ],
      "execution_count": null,
      "outputs": [
        {
          "output_type": "execute_result",
          "data": {
            "text/plain": [
              "<seaborn.axisgrid.JointGrid at 0x7fd43b71fc50>"
            ]
          },
          "metadata": {
            "tags": []
          },
          "execution_count": 44
        },
        {
          "output_type": "display_data",
          "data": {
            "image/png": "[encoded data removed]",
            "text/plain": [
              "<Figure size 432x432 with 3 Axes>"
            ]
          },
          "metadata": {
            "tags": [],
            "needs_background": "light"
          }
        }
      ]
    },
    {
      "cell_type": "code",
      "metadata": {
        "id": "SKrT27vK9fhD",
        "outputId": "c236063a-c294-4143-aea0-4c8c94245c4b",
        "colab": {
          "base_uri": "https://localhost:8080/"
        }
      },
      "source": [
        "rows, columns = frame.shape\n",
        "\n",
        "X = frame.drop(labels=['label'], axis=1)\n",
        "y   = frame['label']\n",
        "\n",
        "labels = frame['label']\n",
        "\n",
        "train, test, train_labels, test_labels = train_test_split(X, y,\n",
        "                                                          test_size=0.3,\n",
        "                                                          random_state=99,\n",
        "                                                          stratify=labels)\n",
        "\n",
        "scaler = MinMaxScaler(feature_range=(0, 1))\n",
        "\n",
        "train = scaler.fit_transform(train)\n",
        "test =  scaler.transform(test)\n",
        "\n",
        "print(train.shape)\n",
        "print(test.shape)"
      ],
      "execution_count": null,
      "outputs": [
        {
          "output_type": "stream",
          "text": [
            "(1201, 2)\n",
            "(516, 2)\n"
          ],
          "name": "stdout"
        }
      ]
    },
    {
      "cell_type": "code",
      "metadata": {
        "id": "GqVtKWxx-jYG",
        "outputId": "1c42a896-27f1-43c8-9e88-d4ab56c8997e",
        "colab": {
          "base_uri": "https://localhost:8080/",
          "height": 204
        }
      },
      "source": [
        "X.head()"
      ],
      "execution_count": null,
      "outputs": [
        {
          "output_type": "execute_result",
          "data": {
            "text/html": [
              "<div>\n",
              "<style scoped>\n",
              "    .dataframe tbody tr th:only-of-type {\n",
              "        vertical-align: middle;\n",
              "    }\n",
              "\n",
              "    .dataframe tbody tr th {\n",
              "        vertical-align: top;\n",
              "    }\n",
              "\n",
              "    .dataframe thead th {\n",
              "        text-align: right;\n",
              "    }\n",
              "</style>\n",
              "<table border=\"1\" class=\"dataframe\">\n",
              "  <thead>\n",
              "    <tr style=\"text-align: right;\">\n",
              "      <th></th>\n",
              "      <th>none_levated_peak</th>\n",
              "      <th>peak</th>\n",
              "    </tr>\n",
              "  </thead>\n",
              "  <tbody>\n",
              "    <tr>\n",
              "      <th>0</th>\n",
              "      <td>2885.711246</td>\n",
              "      <td>22.403656</td>\n",
              "    </tr>\n",
              "    <tr>\n",
              "      <th>1</th>\n",
              "      <td>2897.257602</td>\n",
              "      <td>22.404719</td>\n",
              "    </tr>\n",
              "    <tr>\n",
              "      <th>2</th>\n",
              "      <td>2894.229894</td>\n",
              "      <td>22.402104</td>\n",
              "    </tr>\n",
              "    <tr>\n",
              "      <th>3</th>\n",
              "      <td>2900.071792</td>\n",
              "      <td>22.399203</td>\n",
              "    </tr>\n",
              "    <tr>\n",
              "      <th>4</th>\n",
              "      <td>2891.340716</td>\n",
              "      <td>22.398519</td>\n",
              "    </tr>\n",
              "  </tbody>\n",
              "</table>\n",
              "</div>"
            ],
            "text/plain": [
              "   none_levated_peak       peak\n",
              "0        2885.711246  22.403656\n",
              "1        2897.257602  22.404719\n",
              "2        2894.229894  22.402104\n",
              "3        2900.071792  22.399203\n",
              "4        2891.340716  22.398519"
            ]
          },
          "metadata": {
            "tags": []
          },
          "execution_count": 46
        }
      ]
    },
    {
      "cell_type": "code",
      "metadata": {
        "id": "nfNkwdBt-oi0"
      },
      "source": [
        "model = RandomForestClassifier(random_state=63, n_estimators=100)\n",
        "\n",
        "model.fit(train, train_labels)\n",
        "\n",
        "predicted = model.predict(test)"
      ],
      "execution_count": null,
      "outputs": []
    },
    {
      "cell_type": "code",
      "metadata": {
        "id": "AvLnqhJa_H4l",
        "outputId": "592eac55-b6fd-40a7-8e85-787802f5420b",
        "colab": {
          "base_uri": "https://localhost:8080/"
        }
      },
      "source": [
        "confusion_matrix(test_labels, predicted, labels=[0, 1])"
      ],
      "execution_count": null,
      "outputs": [
        {
          "output_type": "execute_result",
          "data": {
            "text/plain": [
              "array([[121,   0],\n",
              "       [  0, 395]])"
            ]
          },
          "metadata": {
            "tags": []
          },
          "execution_count": 48
        }
      ]
    },
    {
      "cell_type": "code",
      "metadata": {
        "id": "NSkz0cQF_Lgn",
        "outputId": "e9241f2c-ca7f-450f-87b6-5e3f9f49d546",
        "colab": {
          "base_uri": "https://localhost:8080/"
        }
      },
      "source": [
        "geometric_mean_score(test_labels, predicted)"
      ],
      "execution_count": null,
      "outputs": [
        {
          "output_type": "execute_result",
          "data": {
            "text/plain": [
              "1.0"
            ]
          },
          "metadata": {
            "tags": []
          },
          "execution_count": 49
        }
      ]
    },
    {
      "cell_type": "code",
      "metadata": {
        "id": "lBq-8EA7_Pjy"
      },
      "source": [
        ""
      ],
      "execution_count": null,
      "outputs": []
    }
  ]
}