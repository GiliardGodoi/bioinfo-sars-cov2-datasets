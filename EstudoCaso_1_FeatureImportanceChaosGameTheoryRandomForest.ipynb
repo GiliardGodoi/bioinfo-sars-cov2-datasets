{
  "nbformat": 4,
  "nbformat_minor": 0,
  "metadata": {
    "colab": {
      "name": "EstudoCaso_1_FeatureImportanceChaosGameTheoryRandomForest.ipynb",
      "provenance": [],
      "collapsed_sections": [],
      "mount_file_id": "1fx9lEz-2M5iYv7nYGfn6BN1wZ6meWkMH",
      "authorship_tag": "ABX9TyOifQsEsImTxNTNN71/lS7A",
      "include_colab_link": true
    },
    "kernelspec": {
      "name": "python3",
      "display_name": "Python 3"
    }
  },
  "cells": [
    {
      "cell_type": "markdown",
      "metadata": {
        "id": "view-in-github",
        "colab_type": "text"
      },
      "source": [
        "<a href=\"https://colab.research.google.com/github/GiliardGodoi/bioinfo-sars-cov2-datasets/blob/main/EstudoCaso_1_FeatureImportanceChaosGameTheoryRandomForest.ipynb\" target=\"_parent\"><img src=\"https://colab.research.google.com/assets/colab-badge.svg\" alt=\"Open In Colab\"/></a>"
      ]
    },
    {
      "cell_type": "code",
      "metadata": {
        "id": "GYt60va-zFWP",
        "outputId": "2384d474-31df-44f1-dc9d-4d455fdb9154",
        "colab": {
          "base_uri": "https://localhost:8080/"
        }
      },
      "source": [
        "from sklearn.ensemble import RandomForestClassifier\n",
        "\n",
        "from sklearn.pipeline import Pipeline\n",
        "\n",
        "from sklearn.preprocessing import MinMaxScaler\n",
        "from sklearn.preprocessing import Normalizer\n",
        "from sklearn.preprocessing import StandardScaler\n",
        "\n",
        "from sklearn.model_selection import cross_validate\n",
        "from sklearn.model_selection import KFold\n",
        "from sklearn.model_selection import train_test_split\n",
        "\n",
        "from sklearn.metrics import accuracy_score\n",
        "from sklearn.metrics import balanced_accuracy_score\n",
        "from sklearn.metrics import cohen_kappa_score\n",
        "from sklearn.metrics import confusion_matrix\n",
        "from sklearn.metrics import f1_score\n",
        "from sklearn.metrics import hamming_loss\n",
        "from sklearn.metrics import jaccard_score\n",
        "from sklearn.metrics import make_scorer\n",
        "from sklearn.metrics import matthews_corrcoef\n",
        "from sklearn.metrics import precision_score\n",
        "from sklearn.metrics import roc_auc_score\n",
        "from sklearn.metrics import recall_score\n",
        "from imblearn.metrics import geometric_mean_score"
      ],
      "execution_count": null,
      "outputs": [
        {
          "output_type": "stream",
          "text": [
            "/usr/local/lib/python3.6/dist-packages/sklearn/externals/six.py:31: FutureWarning: The module is deprecated in version 0.21 and will be removed in version 0.23 since we've dropped support for Python 2.7. Please rely on the official version of six (https://pypi.org/project/six/).\n",
            "  \"(https://pypi.org/project/six/).\", FutureWarning)\n",
            "/usr/local/lib/python3.6/dist-packages/sklearn/utils/deprecation.py:144: FutureWarning: The sklearn.neighbors.base module is  deprecated in version 0.22 and will be removed in version 0.24. The corresponding classes / functions should instead be imported from sklearn.neighbors. Anything that cannot be imported from sklearn.neighbors is now part of the private API.\n",
            "  warnings.warn(message, FutureWarning)\n",
            "/usr/local/lib/python3.6/dist-packages/sklearn/utils/deprecation.py:144: FutureWarning: The sklearn.metrics.classification module is  deprecated in version 0.22 and will be removed in version 0.24. The corresponding classes / functions should instead be imported from sklearn.metrics. Anything that cannot be imported from sklearn.metrics is now part of the private API.\n",
            "  warnings.warn(message, FutureWarning)\n"
          ],
          "name": "stderr"
        }
      ]
    },
    {
      "cell_type": "code",
      "metadata": {
        "id": "tCZac7cUz-7B",
        "outputId": "8c5a5c62-1f52-4007-984f-e8abf250b3d9",
        "colab": {
          "base_uri": "https://localhost:8080/"
        }
      },
      "source": [
        "help(geometric_mean_score)"
      ],
      "execution_count": null,
      "outputs": [
        {
          "output_type": "stream",
          "text": [
            "Help on function geometric_mean_score in module imblearn.metrics._classification:\n",
            "\n",
            "geometric_mean_score(y_true, y_pred, labels=None, pos_label=1, average='multiclass', sample_weight=None, correction=0.0)\n",
            "    Compute the geometric mean.\n",
            "    \n",
            "    The geometric mean (G-mean) is the root of the product of class-wise\n",
            "    sensitivity. This measure tries to maximize the accuracy on each of the\n",
            "    classes while keeping these accuracies balanced. For binary classification\n",
            "    G-mean is the squared root of the product of the sensitivity\n",
            "    and specificity. For multi-class problems it is a higher root of the\n",
            "    product of sensitivity for each class.\n",
            "    \n",
            "    For compatibility with other imbalance performance measures, G-mean can be\n",
            "    calculated for each class separately on a one-vs-rest basis when\n",
            "    ``average != 'multiclass'``.\n",
            "    \n",
            "    The best value is 1 and the worst value is 0. Traditionally if at least one\n",
            "    class is unrecognized by the classifier, G-mean resolves to zero. To\n",
            "    alleviate this property, for highly multi-class the sensitivity of\n",
            "    unrecognized classes can be \"corrected\" to be a user specified value\n",
            "    (instead of zero). This option works only if ``average == 'multiclass'``.\n",
            "    \n",
            "    Read more in the :ref:`User Guide <imbalanced_metrics>`.\n",
            "    \n",
            "    Parameters\n",
            "    ----------\n",
            "    y_true : ndarray, shape (n_samples, )\n",
            "        Ground truth (correct) target values.\n",
            "    \n",
            "    y_pred : ndarray, shape (n_samples, )\n",
            "        Estimated targets as returned by a classifier.\n",
            "    \n",
            "    labels : list, optional\n",
            "        The set of labels to include when ``average != 'binary'``, and their\n",
            "        order if ``average is None``. Labels present in the data can be\n",
            "        excluded, for example to calculate a multiclass average ignoring a\n",
            "        majority negative class, while labels not present in the data will\n",
            "        result in 0 components in a macro average.\n",
            "    \n",
            "    pos_label : str or int, optional (default=1)\n",
            "        The class to report if ``average='binary'`` and the data is binary.\n",
            "        If the data are multiclass, this will be ignored;\n",
            "        setting ``labels=[pos_label]`` and ``average != 'binary'`` will report\n",
            "        scores for that label only.\n",
            "    \n",
            "    average : str or None, optional (default='multiclass')\n",
            "        If ``None``, the scores for each class are returned. Otherwise, this\n",
            "        determines the type of averaging performed on the data:\n",
            "    \n",
            "        ``'binary'``:\n",
            "            Only report results for the class specified by ``pos_label``.\n",
            "            This is applicable only if targets (``y_{true,pred}``) are binary.\n",
            "        ``'micro'``:\n",
            "            Calculate metrics globally by counting the total true positives,\n",
            "            false negatives and false positives.\n",
            "        ``'macro'``:\n",
            "            Calculate metrics for each label, and find their unweighted\n",
            "            mean.  This does not take label imbalance into account.\n",
            "        ``'weighted'``:\n",
            "            Calculate metrics for each label, and find their average, weighted\n",
            "            by support (the number of true instances for each label). This\n",
            "            alters 'macro' to account for label imbalance; it can result in an\n",
            "            F-score that is not between precision and recall.\n",
            "        ``'samples'``:\n",
            "            Calculate metrics for each instance, and find their average (only\n",
            "            meaningful for multilabel classification where this differs from\n",
            "            :func:`accuracy_score`).\n",
            "    \n",
            "    sample_weight : ndarray, shape (n_samples, )\n",
            "        Sample weights.\n",
            "    \n",
            "    correction: float, optional (default=0.0)\n",
            "        Substitutes sensitivity of unrecognized classes from zero to a given\n",
            "        value.\n",
            "    \n",
            "    Returns\n",
            "    -------\n",
            "    geometric_mean : float\n",
            "    \n",
            "    Notes\n",
            "    -----\n",
            "    See :ref:`sphx_glr_auto_examples_evaluation_plot_metrics.py`.\n",
            "    \n",
            "    References\n",
            "    ----------\n",
            "    .. [1] Kubat, M. and Matwin, S. \"Addressing the curse of\n",
            "       imbalanced training sets: one-sided selection\" ICML (1997)\n",
            "    \n",
            "    .. [2] Barandela, R., Sánchez, J. S., Garcıa, V., & Rangel, E. \"Strategies\n",
            "       for learning in class imbalance problems\", Pattern Recognition,\n",
            "       36(3), (2003), pp 849-851.\n",
            "    \n",
            "    Examples\n",
            "    --------\n",
            "    >>> from imblearn.metrics import geometric_mean_score\n",
            "    >>> y_true = [0, 1, 2, 0, 1, 2]\n",
            "    >>> y_pred = [0, 2, 1, 0, 0, 1]\n",
            "    >>> geometric_mean_score(y_true, y_pred)\n",
            "    0.0\n",
            "    >>> geometric_mean_score(y_true, y_pred, correction=0.001)\n",
            "    0.010000000000000004\n",
            "    >>> geometric_mean_score(y_true, y_pred, average='macro')\n",
            "    0.47140452079103168\n",
            "    >>> geometric_mean_score(y_true, y_pred, average='micro')\n",
            "    0.47140452079103168\n",
            "    >>> geometric_mean_score(y_true, y_pred, average='weighted')\n",
            "    0.47140452079103168\n",
            "    >>> geometric_mean_score(y_true, y_pred, average=None)\n",
            "    array([ 0.8660254,  0.       ,  0.       ])\n",
            "\n"
          ],
          "name": "stdout"
        }
      ]
    },
    {
      "cell_type": "code",
      "metadata": {
        "id": "8u7YkbTBzPGh"
      },
      "source": [
        "import os\n",
        "from os import path\n",
        "\n",
        "import pandas as pd\n",
        "import numpy as np"
      ],
      "execution_count": null,
      "outputs": []
    },
    {
      "cell_type": "code",
      "metadata": {
        "id": "1nG51Pzt1QEK"
      },
      "source": [
        "from matplotlib import pyplot as plt \n",
        "import seaborn as sns"
      ],
      "execution_count": null,
      "outputs": []
    },
    {
      "cell_type": "code",
      "metadata": {
        "id": "cuhqKn94zPof",
        "outputId": "2ae0348f-4f7f-4455-a24f-06ef8fac35a6",
        "colab": {
          "base_uri": "https://localhost:8080/"
        }
      },
      "source": [
        "base_folder = \"/content/drive/Shared drives/PPGI_GILIARD/FeatureExtraction_SARS-CoV-2\"\n",
        "features_folder = \"/content/drive/Shared drives/PPGI_GILIARD/FeatureExtraction_SARS-CoV-2/data/processed\"\n",
        "\n",
        "assert path.exists(features_folder)\n",
        "\n",
        "folders = os.listdir(features_folder)\n",
        "\n",
        "folders"
      ],
      "execution_count": null,
      "outputs": [
        {
          "output_type": "execute_result",
          "data": {
            "text/plain": [
              "['1-covid', '2-other-viruses']"
            ]
          },
          "metadata": {
            "tags": []
          },
          "execution_count": 5
        }
      ]
    },
    {
      "cell_type": "code",
      "metadata": {
        "id": "KU-mQFKxzZTq",
        "outputId": "b3a1a440-4683-4e43-fd2f-4736b6a0bc70",
        "colab": {
          "base_uri": "https://localhost:8080/"
        }
      },
      "source": [
        "case_study = path.join(features_folder, folders[0])\n",
        "\n",
        "print(case_study,'\\n')\n",
        "\n",
        "files = os.listdir(case_study)\n",
        "\n",
        "files"
      ],
      "execution_count": null,
      "outputs": [
        {
          "output_type": "stream",
          "text": [
            "/content/drive/Shared drives/PPGI_GILIARD/FeatureExtraction_SARS-CoV-2/data/processed/1-covid \n",
            "\n"
          ],
          "name": "stdout"
        },
        {
          "output_type": "execute_result",
          "data": {
            "text/plain": [
              "['chaos-game-theory_r4.csv',\n",
              " 'complex-network-k3l10.csv',\n",
              " 'fourier-class-r5.csv',\n",
              " 'shannon-entropy-k12.csv']"
            ]
          },
          "metadata": {
            "tags": []
          },
          "execution_count": 6
        }
      ]
    },
    {
      "cell_type": "code",
      "metadata": {
        "id": "uAvCs-luzZ7F",
        "outputId": "c0db0a52-148f-4070-e0b2-310906e70f97",
        "colab": {
          "base_uri": "https://localhost:8080/",
          "height": 343
        }
      },
      "source": [
        "file = files[0]\n",
        "\n",
        "print('loading data from...', file)\n",
        "\n",
        "frame = pd.read_csv(path.join(case_study, file))\n",
        "\n",
        "print('Shape ', frame.shape)\n",
        "\n",
        "frame.head()"
      ],
      "execution_count": null,
      "outputs": [
        {
          "output_type": "stream",
          "text": [
            "loading data from... chaos-game-theory_r4.csv\n",
            "Shape  (1717, 21)\n"
          ],
          "name": "stdout"
        },
        {
          "output_type": "execute_result",
          "data": {
            "text/html": [
              "<div>\n",
              "<style scoped>\n",
              "    .dataframe tbody tr th:only-of-type {\n",
              "        vertical-align: middle;\n",
              "    }\n",
              "\n",
              "    .dataframe tbody tr th {\n",
              "        vertical-align: top;\n",
              "    }\n",
              "\n",
              "    .dataframe thead th {\n",
              "        text-align: right;\n",
              "    }\n",
              "</style>\n",
              "<table border=\"1\" class=\"dataframe\">\n",
              "  <thead>\n",
              "    <tr style=\"text-align: right;\">\n",
              "      <th></th>\n",
              "      <th>nameseq</th>\n",
              "      <th>average</th>\n",
              "      <th>median</th>\n",
              "      <th>maximum</th>\n",
              "      <th>minimum</th>\n",
              "      <th>peak</th>\n",
              "      <th>none_levated_peak</th>\n",
              "      <th>sample_standard_deviation</th>\n",
              "      <th>population_standard_deviation</th>\n",
              "      <th>percentile15</th>\n",
              "      <th>percentile25</th>\n",
              "      <th>percentile50</th>\n",
              "      <th>percentile75</th>\n",
              "      <th>amplitude</th>\n",
              "      <th>variance</th>\n",
              "      <th>interquartile_range</th>\n",
              "      <th>semi_interquartile_range</th>\n",
              "      <th>coefficient_of_variation</th>\n",
              "      <th>skewness</th>\n",
              "      <th>kurtosis</th>\n",
              "      <th>label</th>\n",
              "    </tr>\n",
              "  </thead>\n",
              "  <tbody>\n",
              "    <tr>\n",
              "      <th>0</th>\n",
              "      <td>MN369046</td>\n",
              "      <td>0.001427</td>\n",
              "      <td>0.000198</td>\n",
              "      <td>22.960556</td>\n",
              "      <td>3.038274e-09</td>\n",
              "      <td>6.321651e+06</td>\n",
              "      <td>485164.755079</td>\n",
              "      <td>0.139555</td>\n",
              "      <td>0.139558</td>\n",
              "      <td>0.000043</td>\n",
              "      <td>0.000076</td>\n",
              "      <td>0.000198</td>\n",
              "      <td>0.000495</td>\n",
              "      <td>22.960556</td>\n",
              "      <td>0.019476</td>\n",
              "      <td>0.000418</td>\n",
              "      <td>0.000209</td>\n",
              "      <td>97.774348</td>\n",
              "      <td>0.026427</td>\n",
              "      <td>0.155888</td>\n",
              "      <td>0</td>\n",
              "    </tr>\n",
              "    <tr>\n",
              "      <th>1</th>\n",
              "      <td>MN306046</td>\n",
              "      <td>0.001437</td>\n",
              "      <td>0.000198</td>\n",
              "      <td>23.269725</td>\n",
              "      <td>3.224093e-08</td>\n",
              "      <td>6.325157e+06</td>\n",
              "      <td>487790.539856</td>\n",
              "      <td>0.140927</td>\n",
              "      <td>0.140930</td>\n",
              "      <td>0.000041</td>\n",
              "      <td>0.000077</td>\n",
              "      <td>0.000198</td>\n",
              "      <td>0.000501</td>\n",
              "      <td>23.269725</td>\n",
              "      <td>0.019861</td>\n",
              "      <td>0.000424</td>\n",
              "      <td>0.000212</td>\n",
              "      <td>98.084045</td>\n",
              "      <td>0.026365</td>\n",
              "      <td>0.154048</td>\n",
              "      <td>0</td>\n",
              "    </tr>\n",
              "    <tr>\n",
              "      <th>2</th>\n",
              "      <td>MF542265</td>\n",
              "      <td>0.001437</td>\n",
              "      <td>0.000201</td>\n",
              "      <td>23.267664</td>\n",
              "      <td>1.049310e-09</td>\n",
              "      <td>6.323645e+06</td>\n",
              "      <td>486960.492750</td>\n",
              "      <td>0.140912</td>\n",
              "      <td>0.140915</td>\n",
              "      <td>0.000042</td>\n",
              "      <td>0.000078</td>\n",
              "      <td>0.000201</td>\n",
              "      <td>0.000507</td>\n",
              "      <td>23.267664</td>\n",
              "      <td>0.019857</td>\n",
              "      <td>0.000429</td>\n",
              "      <td>0.000214</td>\n",
              "      <td>98.046509</td>\n",
              "      <td>0.026316</td>\n",
              "      <td>0.155208</td>\n",
              "      <td>0</td>\n",
              "    </tr>\n",
              "    <tr>\n",
              "      <th>3</th>\n",
              "      <td>KY983587</td>\n",
              "      <td>0.001444</td>\n",
              "      <td>0.000200</td>\n",
              "      <td>23.252662</td>\n",
              "      <td>1.155165e-08</td>\n",
              "      <td>6.286978e+06</td>\n",
              "      <td>484314.805845</td>\n",
              "      <td>0.140915</td>\n",
              "      <td>0.140917</td>\n",
              "      <td>0.000043</td>\n",
              "      <td>0.000077</td>\n",
              "      <td>0.000200</td>\n",
              "      <td>0.000507</td>\n",
              "      <td>23.252662</td>\n",
              "      <td>0.019858</td>\n",
              "      <td>0.000430</td>\n",
              "      <td>0.000215</td>\n",
              "      <td>97.608601</td>\n",
              "      <td>0.026467</td>\n",
              "      <td>0.156597</td>\n",
              "      <td>0</td>\n",
              "    </tr>\n",
              "    <tr>\n",
              "      <th>4</th>\n",
              "      <td>KY621348</td>\n",
              "      <td>0.001447</td>\n",
              "      <td>0.000202</td>\n",
              "      <td>23.165964</td>\n",
              "      <td>4.629677e-08</td>\n",
              "      <td>6.251001e+06</td>\n",
              "      <td>481149.223571</td>\n",
              "      <td>0.140624</td>\n",
              "      <td>0.140627</td>\n",
              "      <td>0.000042</td>\n",
              "      <td>0.000077</td>\n",
              "      <td>0.000202</td>\n",
              "      <td>0.000516</td>\n",
              "      <td>23.165964</td>\n",
              "      <td>0.019776</td>\n",
              "      <td>0.000439</td>\n",
              "      <td>0.000220</td>\n",
              "      <td>97.174864</td>\n",
              "      <td>0.026559</td>\n",
              "      <td>0.159342</td>\n",
              "      <td>0</td>\n",
              "    </tr>\n",
              "  </tbody>\n",
              "</table>\n",
              "</div>"
            ],
            "text/plain": [
              "    nameseq   average    median  ...  skewness  kurtosis  label\n",
              "0  MN369046  0.001427  0.000198  ...  0.026427  0.155888      0\n",
              "1  MN306046  0.001437  0.000198  ...  0.026365  0.154048      0\n",
              "2  MF542265  0.001437  0.000201  ...  0.026316  0.155208      0\n",
              "3  KY983587  0.001444  0.000200  ...  0.026467  0.156597      0\n",
              "4  KY621348  0.001447  0.000202  ...  0.026559  0.159342      0\n",
              "\n",
              "[5 rows x 21 columns]"
            ]
          },
          "metadata": {
            "tags": []
          },
          "execution_count": 7
        }
      ]
    },
    {
      "cell_type": "code",
      "metadata": {
        "id": "gbjVANOX0cwb",
        "outputId": "8d13f7d7-03b1-4903-f152-43fd0e63c9af",
        "colab": {
          "base_uri": "https://localhost:8080/"
        }
      },
      "source": [
        "rows, columns = frame.shape\n",
        "\n",
        "X = frame.iloc[:,1:(columns-1)]\n",
        "y   = frame.iloc[:, -1]\n",
        "\n",
        "labels = frame['label']\n",
        "\n",
        "train, test, train_labels, test_labels = train_test_split(X, y,\n",
        "                                                          test_size=0.3,\n",
        "                                                          random_state=12,\n",
        "                                                          stratify=labels)\n",
        "\n",
        "scaler = MinMaxScaler(feature_range=(0, 1))\n",
        "\n",
        "train = scaler.fit_transform(train)\n",
        "test =  scaler.transform(test)\n",
        "\n",
        "print(train.shape)\n",
        "print(test.shape)"
      ],
      "execution_count": null,
      "outputs": [
        {
          "output_type": "stream",
          "text": [
            "(1201, 19)\n",
            "(516, 19)\n"
          ],
          "name": "stdout"
        }
      ]
    },
    {
      "cell_type": "code",
      "metadata": {
        "id": "7ZvIAKbR0fR9",
        "outputId": "a873c031-fadd-4f4f-b8d7-650bfb07130a",
        "colab": {
          "base_uri": "https://localhost:8080/"
        }
      },
      "source": [
        "model = RandomForestClassifier(random_state=63, n_estimators=100)\n",
        "\n",
        "model.fit(train, train_labels)"
      ],
      "execution_count": null,
      "outputs": [
        {
          "output_type": "execute_result",
          "data": {
            "text/plain": [
              "RandomForestClassifier(bootstrap=True, ccp_alpha=0.0, class_weight=None,\n",
              "                       criterion='gini', max_depth=None, max_features='auto',\n",
              "                       max_leaf_nodes=None, max_samples=None,\n",
              "                       min_impurity_decrease=0.0, min_impurity_split=None,\n",
              "                       min_samples_leaf=1, min_samples_split=2,\n",
              "                       min_weight_fraction_leaf=0.0, n_estimators=100,\n",
              "                       n_jobs=None, oob_score=False, random_state=63, verbose=0,\n",
              "                       warm_start=False)"
            ]
          },
          "metadata": {
            "tags": []
          },
          "execution_count": 9
        }
      ]
    },
    {
      "cell_type": "code",
      "metadata": {
        "id": "EWaiOk9H1FAh"
      },
      "source": [
        "predicted = model.predict(test)"
      ],
      "execution_count": null,
      "outputs": []
    },
    {
      "cell_type": "code",
      "metadata": {
        "id": "_yEoG9Gv1El_",
        "outputId": "ad53ad27-6f62-47f6-f67a-7af338dc3f82",
        "colab": {
          "base_uri": "https://localhost:8080/"
        }
      },
      "source": [
        "confusion_matrix(test_labels, predicted, labels=[1, 0])"
      ],
      "execution_count": null,
      "outputs": [
        {
          "output_type": "execute_result",
          "data": {
            "text/plain": [
              "array([[395,   0],\n",
              "       [  0, 121]])"
            ]
          },
          "metadata": {
            "tags": []
          },
          "execution_count": 11
        }
      ]
    },
    {
      "cell_type": "code",
      "metadata": {
        "id": "W5Zg-OIM3tG7",
        "outputId": "10c7be0b-4dde-40a2-90e5-e311f2e41188",
        "colab": {
          "base_uri": "https://localhost:8080/"
        }
      },
      "source": [
        "geometric_mean_score(test_labels, predicted)"
      ],
      "execution_count": null,
      "outputs": [
        {
          "output_type": "execute_result",
          "data": {
            "text/plain": [
              "1.0"
            ]
          },
          "metadata": {
            "tags": []
          },
          "execution_count": 12
        }
      ]
    },
    {
      "cell_type": "code",
      "metadata": {
        "id": "q2L_33GT38XT",
        "outputId": "91d9640f-38ab-4f46-e71a-962a6fef8ec3",
        "colab": {
          "base_uri": "https://localhost:8080/"
        }
      },
      "source": [
        "model.feature_importances_"
      ],
      "execution_count": null,
      "outputs": [
        {
          "output_type": "execute_result",
          "data": {
            "text/plain": [
              "array([0.02162882, 0.08002052, 0.06794635, 0.        , 0.0655521 ,\n",
              "       0.05475937, 0.03947621, 0.07531261, 0.06923064, 0.03887251,\n",
              "       0.06902853, 0.08560751, 0.06736139, 0.10852537, 0.05161752,\n",
              "       0.03207595, 0.02548928, 0.02557459, 0.02192073])"
            ]
          },
          "metadata": {
            "tags": []
          },
          "execution_count": 13
        }
      ]
    },
    {
      "cell_type": "code",
      "metadata": {
        "id": "wFK9jYf238Gw",
        "outputId": "0b8a14a9-b8be-4a64-b6c1-69525ac88597",
        "colab": {
          "base_uri": "https://localhost:8080/"
        }
      },
      "source": [
        "indices = np.argsort(model.feature_importances_)[::-1]\n",
        "\n",
        "len(indices)"
      ],
      "execution_count": null,
      "outputs": [
        {
          "output_type": "execute_result",
          "data": {
            "text/plain": [
              "19"
            ]
          },
          "metadata": {
            "tags": []
          },
          "execution_count": 14
        }
      ]
    },
    {
      "cell_type": "code",
      "metadata": {
        "id": "grmPBSyPt-Ia"
      },
      "source": [
        ""
      ],
      "execution_count": null,
      "outputs": []
    },
    {
      "cell_type": "code",
      "metadata": {
        "id": "jbzWq66YpcZO",
        "outputId": "933fe310-b5f7-47d7-bead-a8c69b92809e",
        "colab": {
          "base_uri": "https://localhost:8080/"
        }
      },
      "source": [
        "attributes = list(frame.columns)\n",
        "\n",
        "attributes.remove('nameseq')\n",
        "attributes.remove('label')\n",
        "\n",
        "len(attributes)"
      ],
      "execution_count": null,
      "outputs": [
        {
          "output_type": "execute_result",
          "data": {
            "text/plain": [
              "19"
            ]
          },
          "metadata": {
            "tags": []
          },
          "execution_count": 15
        }
      ]
    },
    {
      "cell_type": "code",
      "metadata": {
        "id": "EkoQuwET5jb2",
        "outputId": "f6c29517-0a4c-4e8f-f4ca-e31f27eeb540",
        "colab": {
          "base_uri": "https://localhost:8080/"
        }
      },
      "source": [
        "for i in range(X.shape[1]):\n",
        "  print(i+1, attributes[indices[i]], indices[i], model.feature_importances_[indices[i]])\n",
        "  if i > 10:\n",
        "    break"
      ],
      "execution_count": null,
      "outputs": [
        {
          "output_type": "stream",
          "text": [
            "1 variance 13 0.10852537058291706\n",
            "2 percentile75 11 0.08560750862209231\n",
            "3 median 1 0.08002052427287808\n",
            "4 population_standard_deviation 7 0.07531261472649767\n",
            "5 percentile15 8 0.06923063834702309\n",
            "6 percentile50 10 0.0690285300349906\n",
            "7 maximum 2 0.06794634661506853\n",
            "8 amplitude 12 0.06736138961844382\n",
            "9 peak 4 0.06555210473436586\n",
            "10 none_levated_peak 5 0.05475936791414707\n",
            "11 interquartile_range 14 0.051617517250127254\n",
            "12 sample_standard_deviation 6 0.039476207736451385\n"
          ],
          "name": "stdout"
        }
      ]
    },
    {
      "cell_type": "code",
      "metadata": {
        "id": "1jwmKpm25_0v",
        "outputId": "7407e77e-de76-4b27-a09f-34cf304eb355",
        "colab": {
          "base_uri": "https://localhost:8080/",
          "height": 456
        }
      },
      "source": [
        "\n",
        "plt.figure()\n",
        "\n",
        "col_order = [attributes[i] for i in indices]\n",
        "feature_importance = model.feature_importances_[indices]\n",
        "\n",
        "max_indice = 10\n",
        "interval = slice(max_indice)\n",
        "\n",
        "plt.title(\"Feature importances Random Forest\")\n",
        "plt.bar(range(max_indice), feature_importance[interval], color=\"r\", align=\"center\")\n",
        "plt.xlim([-1, max_indice])\n",
        "plt.xticks(range(max_indice), col_order[interval], rotation='vertical')\n",
        "\n",
        "plt.ylabel('Relative Importance')\n",
        "plt.xlabel('Features')\n",
        "# plt.show()"
      ],
      "execution_count": null,
      "outputs": [
        {
          "output_type": "execute_result",
          "data": {
            "text/plain": [
              "Text(0.5, 0, 'Features')"
            ]
          },
          "metadata": {
            "tags": []
          },
          "execution_count": 17
        },
        {
          "output_type": "display_data",
          "data": {
            "image/png": "[encoded data removed]",
            "text/plain": [
              "<Figure size 432x288 with 1 Axes>"
            ]
          },
          "metadata": {
            "tags": [],
            "needs_background": "light"
          }
        }
      ]
    },
    {
      "cell_type": "markdown",
      "metadata": {
        "id": "Sjbq0icL9Sjn"
      },
      "source": [
        "--- \n",
        "\n",
        "## Test with most importante features"
      ]
    },
    {
      "cell_type": "code",
      "metadata": {
        "id": "M7v8PQUX9hb3"
      },
      "source": [
        "selected_features = ['variance', 'percentile75', 'label']\n"
      ],
      "execution_count": null,
      "outputs": []
    },
    {
      "cell_type": "code",
      "metadata": {
        "id": "v07SzpRS8nTU",
        "outputId": "66717e73-2932-4087-d28f-272f2830b36c",
        "colab": {
          "base_uri": "https://localhost:8080/",
          "height": 238
        }
      },
      "source": [
        "print('loading data from...', file)\n",
        "\n",
        "frame = pd.read_csv(path.join(case_study, file))[selected_features]\n",
        "\n",
        "print('Shape ', frame.shape)\n",
        "\n",
        "frame.head()"
      ],
      "execution_count": null,
      "outputs": [
        {
          "output_type": "stream",
          "text": [
            "loading data from... chaos-game-theory_r4.csv\n",
            "Shape  (1717, 3)\n"
          ],
          "name": "stdout"
        },
        {
          "output_type": "execute_result",
          "data": {
            "text/html": [
              "<div>\n",
              "<style scoped>\n",
              "    .dataframe tbody tr th:only-of-type {\n",
              "        vertical-align: middle;\n",
              "    }\n",
              "\n",
              "    .dataframe tbody tr th {\n",
              "        vertical-align: top;\n",
              "    }\n",
              "\n",
              "    .dataframe thead th {\n",
              "        text-align: right;\n",
              "    }\n",
              "</style>\n",
              "<table border=\"1\" class=\"dataframe\">\n",
              "  <thead>\n",
              "    <tr style=\"text-align: right;\">\n",
              "      <th></th>\n",
              "      <th>variance</th>\n",
              "      <th>percentile75</th>\n",
              "      <th>label</th>\n",
              "    </tr>\n",
              "  </thead>\n",
              "  <tbody>\n",
              "    <tr>\n",
              "      <th>0</th>\n",
              "      <td>0.019476</td>\n",
              "      <td>0.000495</td>\n",
              "      <td>0</td>\n",
              "    </tr>\n",
              "    <tr>\n",
              "      <th>1</th>\n",
              "      <td>0.019861</td>\n",
              "      <td>0.000501</td>\n",
              "      <td>0</td>\n",
              "    </tr>\n",
              "    <tr>\n",
              "      <th>2</th>\n",
              "      <td>0.019857</td>\n",
              "      <td>0.000507</td>\n",
              "      <td>0</td>\n",
              "    </tr>\n",
              "    <tr>\n",
              "      <th>3</th>\n",
              "      <td>0.019858</td>\n",
              "      <td>0.000507</td>\n",
              "      <td>0</td>\n",
              "    </tr>\n",
              "    <tr>\n",
              "      <th>4</th>\n",
              "      <td>0.019776</td>\n",
              "      <td>0.000516</td>\n",
              "      <td>0</td>\n",
              "    </tr>\n",
              "  </tbody>\n",
              "</table>\n",
              "</div>"
            ],
            "text/plain": [
              "   variance  percentile75  label\n",
              "0  0.019476      0.000495      0\n",
              "1  0.019861      0.000501      0\n",
              "2  0.019857      0.000507      0\n",
              "3  0.019858      0.000507      0\n",
              "4  0.019776      0.000516      0"
            ]
          },
          "metadata": {
            "tags": []
          },
          "execution_count": 19
        }
      ]
    },
    {
      "cell_type": "code",
      "metadata": {
        "id": "-1omq1_09odd",
        "outputId": "b97eb4d1-30f4-4397-8fd3-97a98fb487e9",
        "colab": {
          "base_uri": "https://localhost:8080/",
          "height": 425
        }
      },
      "source": [
        "sns.pairplot(frame, hue='label')"
      ],
      "execution_count": null,
      "outputs": [
        {
          "output_type": "stream",
          "text": [
            "/usr/local/lib/python3.6/dist-packages/seaborn/distributions.py:305: UserWarning: Dataset has 0 variance; skipping density estimate.\n",
            "  warnings.warn(msg, UserWarning)\n"
          ],
          "name": "stderr"
        },
        {
          "output_type": "execute_result",
          "data": {
            "text/plain": [
              "<seaborn.axisgrid.PairGrid at 0x7f79a4a2e3c8>"
            ]
          },
          "metadata": {
            "tags": []
          },
          "execution_count": 20
        },
        {
          "output_type": "display_data",
          "data": {
            "image/png": "[encoded data removed]",
            "text/plain": [
              "<Figure size 402.375x360 with 6 Axes>"
            ]
          },
          "metadata": {
            "tags": [],
            "needs_background": "light"
          }
        }
      ]
    },
    {
      "cell_type": "code",
      "metadata": {
        "id": "PneYSN2hsE7a",
        "outputId": "b9cafb89-2d86-41fc-c0ee-f030dcc08f53",
        "colab": {
          "base_uri": "https://localhost:8080/",
          "height": 492
        }
      },
      "source": [
        "g = sns.JointGrid(data=frame, x=selected_features[0], y=selected_features[1], hue='label')\n",
        "\n",
        "g.plot_joint(sns.scatterplot)\n",
        "g.plot_marginals(sns.kdeplot)"
      ],
      "execution_count": null,
      "outputs": [
        {
          "output_type": "stream",
          "text": [
            "/usr/local/lib/python3.6/dist-packages/seaborn/distributions.py:305: UserWarning: Dataset has 0 variance; skipping density estimate.\n",
            "  warnings.warn(msg, UserWarning)\n"
          ],
          "name": "stderr"
        },
        {
          "output_type": "execute_result",
          "data": {
            "text/plain": [
              "<seaborn.axisgrid.JointGrid at 0x7f79a0fe66d8>"
            ]
          },
          "metadata": {
            "tags": []
          },
          "execution_count": 21
        },
        {
          "output_type": "display_data",
          "data": {
            "image/png": "[encoded data removed]",
            "text/plain": [
              "<Figure size 432x432 with 3 Axes>"
            ]
          },
          "metadata": {
            "tags": [],
            "needs_background": "light"
          }
        }
      ]
    },
    {
      "cell_type": "code",
      "metadata": {
        "id": "SKrT27vK9fhD",
        "outputId": "90617ffd-12b5-46b7-847d-596fe1eb8545",
        "colab": {
          "base_uri": "https://localhost:8080/"
        }
      },
      "source": [
        "rows, columns = frame.shape\n",
        "\n",
        "X = frame.drop(labels=['label'], axis=1)\n",
        "y   = frame['label']\n",
        "\n",
        "labels = frame['label']\n",
        "\n",
        "train, test, train_labels, test_labels = train_test_split(X, y,\n",
        "                                                          test_size=0.3,\n",
        "                                                          random_state=42,\n",
        "                                                          stratify=labels)\n",
        "\n",
        "scaler = MinMaxScaler(feature_range=(0, 1))\n",
        "\n",
        "train = scaler.fit_transform(train)\n",
        "test =  scaler.transform(test)\n",
        "\n",
        "print(train.shape)\n",
        "print(test.shape)"
      ],
      "execution_count": null,
      "outputs": [
        {
          "output_type": "stream",
          "text": [
            "(1201, 2)\n",
            "(516, 2)\n"
          ],
          "name": "stdout"
        }
      ]
    },
    {
      "cell_type": "code",
      "metadata": {
        "id": "GqVtKWxx-jYG",
        "outputId": "c90a3dd6-70a2-4c0b-86c4-d81b13c3e9b7",
        "colab": {
          "base_uri": "https://localhost:8080/",
          "height": 204
        }
      },
      "source": [
        "X.head()"
      ],
      "execution_count": null,
      "outputs": [
        {
          "output_type": "execute_result",
          "data": {
            "text/html": [
              "<div>\n",
              "<style scoped>\n",
              "    .dataframe tbody tr th:only-of-type {\n",
              "        vertical-align: middle;\n",
              "    }\n",
              "\n",
              "    .dataframe tbody tr th {\n",
              "        vertical-align: top;\n",
              "    }\n",
              "\n",
              "    .dataframe thead th {\n",
              "        text-align: right;\n",
              "    }\n",
              "</style>\n",
              "<table border=\"1\" class=\"dataframe\">\n",
              "  <thead>\n",
              "    <tr style=\"text-align: right;\">\n",
              "      <th></th>\n",
              "      <th>variance</th>\n",
              "      <th>percentile75</th>\n",
              "    </tr>\n",
              "  </thead>\n",
              "  <tbody>\n",
              "    <tr>\n",
              "      <th>0</th>\n",
              "      <td>0.019476</td>\n",
              "      <td>0.000495</td>\n",
              "    </tr>\n",
              "    <tr>\n",
              "      <th>1</th>\n",
              "      <td>0.019861</td>\n",
              "      <td>0.000501</td>\n",
              "    </tr>\n",
              "    <tr>\n",
              "      <th>2</th>\n",
              "      <td>0.019857</td>\n",
              "      <td>0.000507</td>\n",
              "    </tr>\n",
              "    <tr>\n",
              "      <th>3</th>\n",
              "      <td>0.019858</td>\n",
              "      <td>0.000507</td>\n",
              "    </tr>\n",
              "    <tr>\n",
              "      <th>4</th>\n",
              "      <td>0.019776</td>\n",
              "      <td>0.000516</td>\n",
              "    </tr>\n",
              "  </tbody>\n",
              "</table>\n",
              "</div>"
            ],
            "text/plain": [
              "   variance  percentile75\n",
              "0  0.019476      0.000495\n",
              "1  0.019861      0.000501\n",
              "2  0.019857      0.000507\n",
              "3  0.019858      0.000507\n",
              "4  0.019776      0.000516"
            ]
          },
          "metadata": {
            "tags": []
          },
          "execution_count": 23
        }
      ]
    },
    {
      "cell_type": "code",
      "metadata": {
        "id": "nfNkwdBt-oi0"
      },
      "source": [
        "model = RandomForestClassifier(random_state=63, n_estimators=100)\n",
        "\n",
        "model.fit(train, train_labels)\n",
        "\n",
        "predicted = model.predict(test)"
      ],
      "execution_count": null,
      "outputs": []
    },
    {
      "cell_type": "code",
      "metadata": {
        "id": "AvLnqhJa_H4l",
        "outputId": "0699d8bb-e4e9-4ad8-acd5-827488fe73f0",
        "colab": {
          "base_uri": "https://localhost:8080/"
        }
      },
      "source": [
        "confusion_matrix(test_labels, predicted, labels=[0, 1])"
      ],
      "execution_count": null,
      "outputs": [
        {
          "output_type": "execute_result",
          "data": {
            "text/plain": [
              "array([[121,   0],\n",
              "       [  0, 395]])"
            ]
          },
          "metadata": {
            "tags": []
          },
          "execution_count": 25
        }
      ]
    },
    {
      "cell_type": "code",
      "metadata": {
        "id": "NSkz0cQF_Lgn",
        "outputId": "a06eedc0-8820-4834-b510-6e8faf4dd9b9",
        "colab": {
          "base_uri": "https://localhost:8080/"
        }
      },
      "source": [
        "geometric_mean_score(test_labels, predicted)"
      ],
      "execution_count": null,
      "outputs": [
        {
          "output_type": "execute_result",
          "data": {
            "text/plain": [
              "1.0"
            ]
          },
          "metadata": {
            "tags": []
          },
          "execution_count": 26
        }
      ]
    },
    {
      "cell_type": "code",
      "metadata": {
        "id": "lBq-8EA7_Pjy"
      },
      "source": [
        ""
      ],
      "execution_count": null,
      "outputs": []
    }
  ]
}